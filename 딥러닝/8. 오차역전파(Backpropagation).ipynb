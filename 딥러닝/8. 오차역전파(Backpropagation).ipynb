{
  "cells": [
    {
      "attachments": {},
      "cell_type": "markdown",
      "metadata": {
        "id": "S9Db_VsP_m1S"
      },
      "source": [
        "## 오차역전파 (Backpropagation)\n"
      ]
    },
    {
      "attachments": {},
      "cell_type": "markdown",
      "metadata": {
        "id": "8Vdi2PAG_3lW"
      },
      "source": [
        "### 오차역전파 알고리즘\n",
        "- 학습 데이터로 정방향(forward) 연산을 통해 손실함수 값(loss)을 구함\n",
        "\n",
        "- 각 layer별로 역전파학습을 위해 중간값을 저장\n",
        "\n",
        "- 손실함수를 학습 파라미터(가중치, 편향)로 미분하여  \n",
        "  마지막 layer로부터 앞으로 하나씩 연쇄법칙을 이용하여 미분\n",
        "  각 layer를 통과할 때마다 저장된 값을 이용\n",
        "\n",
        "- 오류(error)를 전달하면서 학습 파라미터를 조금씩 갱신\n"
      ]
    },
    {
      "attachments": {},
      "cell_type": "markdown",
      "metadata": {
        "id": "-o545ezeUuSB"
      },
      "source": [
        "### 오차역전파 학습의 특징\n",
        "- 손실함수를 통한 평가를 한 번만 하고, 연쇄법칙을 이용한 미분을 활용하기 때문에  \n",
        "  학습 소요시간이 매우 단축!\n",
        "\n",
        "- 미분을 위한 중간값을 모두 저장하기 때문에 메모리를 많이 사용\n"
      ]
    },
    {
      "attachments": {},
      "cell_type": "markdown",
      "metadata": {
        "id": "CFoTt-ds_w8C"
      },
      "source": [
        "### 신경망 학습에 있어서 미분가능의 중요성\n",
        "- 경사하강법(Gradient Descent)에서 손실 함수(cost function)의 최소값,  \n",
        "  즉, 최적값을 찾기 위한 방법으로 미분을 활용\n",
        "\n",
        "- 미분을 통해 손실 함수의 학습 매개변수(trainable parameter)를 갱신하여  \n",
        "  모델의 가중치의 최적값을 찾는 과정\n",
        "\n",
        "![](https://i.pinimg.com/originals/5d/13/20/5d1320c7b672710834e63b95a7c1037b.png)\n",
        "\n",
        "<sub>출처: https://www.pinterest.co.kr/pin/424816177350692379/</sub>"
      ]
    },
    {
      "attachments": {},
      "cell_type": "markdown",
      "metadata": {
        "id": "ilYRMqLeQf6Z"
      },
      "source": [
        "### 합성함수의 미분 (연쇄법칙, chain rule)\n",
        "\n",
        "## $\\qquad \\frac{d}{dx} [f(g(x))] = f^\\prime(g(x))g^\\prime(x)$  \n",
        " \n",
        "\n",
        "- 여러 개 연속으로 사용가능  \n",
        "  ## $ \\quad \\frac{\\partial f}{\\partial x} = \\frac{\\partial f}{\\partial u} \\times \\frac{\\partial u}{\\partial m} \\times \\frac{\\partial m}{\\partial n} \\times \\ ... \\ \\frac{\\partial l}{\\partial k} \\times \\frac{\\partial k}{\\partial g} \\times \\frac{\\partial g}{\\partial x} $\n",
        "  \n",
        "- 각각에 대해 편미분 적용가능\n",
        "\n",
        "![](https://cdn-media-1.freecodecamp.org/images/1*_KMMFvRP5X9kC59brI0ykw.png)\n",
        "<br /><sub>출처: https://www.freecodecamp.org/news/demystifying-gradient-descent-and-backpropagation-via-logistic-regression-based-image-classification-9b5526c2ed46/</sub>\n",
        "\n",
        "- **오차역전파의 직관적 이해**\n",
        "  - 학습을 진행하면서, 즉 손실함수의 최소값(minimum)을 찾아가는 과정에서 가중치 또는 편향의 변화에 따라 얼마나 영향을 받는지 알 수 있음\n",
        "\n"
      ]
    },
    {
      "attachments": {},
      "cell_type": "markdown",
      "metadata": {
        "id": "6NLF8CXiQkuL"
      },
      "source": [
        "#### 합성함수 미분(chain rule) 예제\n",
        "\n",
        "![](https://miro.medium.com/max/1000/1*azqHvbrNsZ8AIZ7H75tbIQ.jpeg)\n",
        "\n",
        "<sub>출처: https://medium.com/spidernitt/breaking-down-neural-networks-an-intuitive-approach-to-backpropagation-3b2ff958794c</sub>\n",
        "\n",
        "  #### $\\quad a=-1, \\ b=3, \\ c=4$,\n",
        "  #### $\\quad x = a + b, \\ y = b + c, \\ f = x * y \\ 일 때$    \n",
        "\n",
        "\n",
        "\n",
        "$\\quad \\begin{matrix}\\frac{\\partial f}{\\partial x} &=& y\\ + \\ x \\ \\frac{\\partial y}{\\partial x} \\\\\n",
        " &=& (b \\ + \\ c) \\ + \\ (a \\ +\\ b)\\ \\times \\ 0 \\\\\n",
        " &=& 7 \\end{matrix}$\n",
        "\n",
        "$\\quad \\begin{matrix}\\frac{\\partial f}{\\partial y} &=& x\\ + \\ \\frac{\\partial x}{\\partial y} \\ y \\\\\n",
        "  &=& (a \\ + \\ b) \\ + \\ 0 \\times (b \\ +\\ c) \\\\\n",
        "  &=& 2 \\end{matrix}$\n",
        "\n",
        "   <br>\n",
        "\n",
        "$ \\quad \\begin{matrix} \\frac{\\partial x}{\\partial a} &=& 1 \\ + \\ a \\ \\frac{\\partial b}{\\partial a} \\\\\n",
        "  &=& 1 \\end{matrix} $\n",
        "  \n",
        "$ \\quad \\begin{matrix} \\frac{\\partial y}{\\partial c} &=& \\frac{\\partial b}{\\partial c}\\ + 1 \\\\\n",
        "   &=& 1 \\end{matrix} $\n",
        "  \n",
        "  <br>\n",
        "\n",
        "$ \\quad \\begin{matrix} \\frac{\\partial f}{\\partial a} &=& \\frac{\\partial f}{\\partial x} \\times \\frac{\\partial x}{\\partial a} \\\\\n",
        "  &=& y \\times 1 \\\\ \n",
        "  &=& 7 \\times 1 = 7 \\\\\n",
        "  &=& 7  \\end{matrix} $\n",
        "    \n",
        "$ \\quad \\begin{matrix} \\frac{\\partial f}{\\partial b}\\ \n",
        "  &=& \\frac{\\partial x}{\\partial b} \\ y \\ + \\ x \\ \\frac{\\partial y}{\\partial b}  \\\\\n",
        "  &=& 1 \\times 7 + 2 \\times 1  \\\\\n",
        "  &=& 9 \\end{matrix} $\n",
        "  \n",
        "\n",
        "  \n",
        "  "
      ]
    },
    {
      "attachments": {},
      "cell_type": "markdown",
      "metadata": {
        "id": "2PgmdJN0Qtdw"
      },
      "source": [
        "### 덧셈, 곱셈 계층의 역전파\n",
        "- 위 예제를 통해 아래 사항을 알 수 있음\n",
        "\n",
        "  #### 1. $\\quad f = x + y$ 일 때,\n",
        "  ## $\\frac{\\partial f}{\\partial x} = 1, \\frac{\\partial f}{\\partial y} = 1 $\n",
        "\n",
        "  #### 2. $\\quad f = xy$ 일 때,\n",
        "  ## $\\frac{\\partial f}{\\partial x} = y, \\frac{\\partial f}{\\partial y} = x$\n"
      ]
    },
    {
      "cell_type": "code",
      "execution_count": 49,
      "metadata": {},
      "outputs": [],
      "source": [
        "import numpy as np\n",
        "import matplotlib.pyplot as plt\n",
        "plt.style.use([\"seaborn-whitegrid\"])"
      ]
    },
    {
      "cell_type": "code",
      "execution_count": 50,
      "metadata": {
        "id": "hShSxvW5WMqi"
      },
      "outputs": [],
      "source": [
        "# 곱셈 순전파 및 역전파\n",
        "class Mul():\n",
        "\n",
        "    def __init__(self):\n",
        "        self.x = None\n",
        "        self.y = None\n",
        "\n",
        "    def forward(self, x, y):\n",
        "        self.x = x\n",
        "        self.y = y\n",
        "        out = self.x * self.y\n",
        "        return out\n",
        "    \n",
        "    def backward(self, dout):\n",
        "        dx = dout * self.y\n",
        "        dy = dout * self.x\n",
        "        return dx, dy"
      ]
    },
    {
      "cell_type": "code",
      "execution_count": 51,
      "metadata": {
        "id": "1bovOx6UQvLP"
      },
      "outputs": [],
      "source": [
        "# 덧셈 순전파 및 역전파\n",
        "class Add():\n",
        "\n",
        "    def __init__(self):\n",
        "        self.x = None\n",
        "        self.y = None\n",
        "            \n",
        "    def forward(self, x, y):\n",
        "        self.x = x\n",
        "        self.y = y\n",
        "        out = self.x + self.y\n",
        "        return out\n",
        "    \n",
        "    def backward(self, dout):\n",
        "        dx = dout * 1\n",
        "        dy = dout * 1\n",
        "        return dx, dy"
      ]
    },
    {
      "cell_type": "code",
      "execution_count": 52,
      "metadata": {
        "id": "e3RawqlUQwp0"
      },
      "outputs": [],
      "source": [
        "a, b, c = -1, 3, 4\n",
        "\n",
        "x = Add()\n",
        "y = Add()\n",
        "f = Mul()"
      ]
    },
    {
      "cell_type": "code",
      "execution_count": 53,
      "metadata": {
        "id": "soyk-HWiSnwh"
      },
      "outputs": [
        {
          "name": "stdout",
          "output_type": "stream",
          "text": [
            "2\n",
            "7\n",
            "14\n"
          ]
        }
      ],
      "source": [
        "x_result = x.forward(a, b)\n",
        "y_result = y.forward(b, c)\n",
        "f_result = f.forward(x_result, y_result)\n",
        "\n",
        "print(x_result)\n",
        "print(y_result)\n",
        "print(f_result)"
      ]
    },
    {
      "cell_type": "code",
      "execution_count": 54,
      "metadata": {
        "id": "FhPPrFIqSpq1"
      },
      "outputs": [
        {
          "name": "stdout",
          "output_type": "stream",
          "text": [
            "dx: 7\n",
            "dy: 2\n",
            "da: 7\n",
            "db: 9\n",
            "dc: 2\n"
          ]
        }
      ],
      "source": [
        "dout = 1\n",
        "dx, dy = f.backward(1)\n",
        "da, db_1 = x.backward(dx)\n",
        "db_2, dc = y.backward(dy)\n",
        "\n",
        "print(\"dx: {}\".format(dx))\n",
        "print(\"dy: {}\".format(dy))\n",
        "print(\"da: {}\".format(da))\n",
        "print(\"db: {}\".format(db_1 + db_2))\n",
        "print(\"dc: {}\".format(dc))"
      ]
    },
    {
      "attachments": {},
      "cell_type": "markdown",
      "metadata": {
        "id": "dMfl0J1uWgiY"
      },
      "source": [
        "![](https://miro.medium.com/max/2000/1*U3mVDYuvnaLhJzIFw_d5qQ.png)\n",
        "<br /><sub>출처: https://medium.com/spidernitt/breaking-down-neural-networks-an-intuitive-approach-to-backpropagation-3b2ff958794c</sub>"
      ]
    },
    {
      "attachments": {},
      "cell_type": "markdown",
      "metadata": {
        "id": "byODNRUF5fbv"
      },
      "source": [
        "### 활성화 함수(Activation)에서의 역전파"
      ]
    },
    {
      "attachments": {},
      "cell_type": "markdown",
      "metadata": {
        "id": "OkRurUgm5hqn"
      },
      "source": [
        "#### 시그모이드(Sigmoid) 함수\n",
        "\n",
        "![](https://media.geeksforgeeks.org/wp-content/uploads/20190911181329/Screenshot-2019-09-11-18.05.46.png)\n",
        "\n",
        "<sub>출처: https://www.geeksforgeeks.org/implement-sigmoid-function-using-numpy/</sub>\n",
        "\n",
        "- 수식 \n",
        "  #### $\\quad y = \\frac{1}{1 + e^{-x}} 일 때$,\n",
        "\n",
        "  $\\quad \\begin{matrix}y' &=& (\\frac{1}{1 + e^{-x}})' \\\\\n",
        "  &=& \\frac{-1}{(1 + e^{-x})^2}\\ \\times \\ (-e^{-x}) \\\\\n",
        "  &=& \\frac{1}{1 + e^{-x}} \\ \\times \\ \\frac{e^{-x}}{1 + e^{-x}} \\\\\n",
        "  &=& \\frac{1}{1 + e^{-x}} \\ \\times \\ (1 - \\frac{1}{1 + e^{-x}}) \\\\\n",
        "  &=& y\\ (1\\ - \\ y)\n",
        "  \\end{matrix}$"
      ]
    },
    {
      "cell_type": "code",
      "execution_count": 55,
      "metadata": {
        "id": "DNWIw7ElVhLK"
      },
      "outputs": [],
      "source": [
        "class Sigmoid():\n",
        "\n",
        "    def __init__(self):\n",
        "        self.out = None\n",
        "\n",
        "    def forward(self, x):\n",
        "        out = 1 / (1 + np.exp(-x))\n",
        "        self.out = out\n",
        "        return out\n",
        "        \n",
        "    def backward(self, dout):\n",
        "        dx = dout * (self.out * (1.0 - self.out))\n",
        "        return dx"
      ]
    },
    {
      "attachments": {},
      "cell_type": "markdown",
      "metadata": {
        "id": "QWZ247xo5mtv"
      },
      "source": [
        "#### ReLU 함수\n",
        "\n",
        "![](https://3qeqpr26caki16dnhd19sv6by6v-wpengine.netdna-ssl.com/wp-content/uploads/2018/10/Line-Plot-of-Rectified-Linear-Activation-for-Negative-and-Positive-Inputs.png)\n",
        "\n",
        "<sub>출처: https://machinelearningmastery.com/rectified-linear-activation-function-for-deep-learning-neural-networks/</sub>\n",
        "\n",
        "\n",
        "- 수식  \n",
        "\n",
        "  $\\qquad y=\n",
        "  \\begin{cases}\n",
        "  x & (x > 0)  \\\\\n",
        "  0 & (x \\le 0)\n",
        "  \\end{cases}$ 일 때,\n",
        "\n",
        "  <br>\n",
        "\n",
        "  $\\qquad \\frac{\\partial y}{\\partial x}=\n",
        "  \\begin{cases}\n",
        "  1 & (x > 0)  \\\\\n",
        "  0 & (x \\le 0)\n",
        "  \\end{cases}$"
      ]
    },
    {
      "cell_type": "code",
      "execution_count": 56,
      "metadata": {
        "id": "hHcPmAzh5nOZ"
      },
      "outputs": [],
      "source": [
        "class ReLU():\n",
        "\n",
        "    def __init__(self):\n",
        "        self.mask = None\n",
        "\n",
        "    def forward(self, x):\n",
        "        out = x.copy()\n",
        "        self.mask = (x <= 0)\n",
        "        out[self.mask] = 0\n",
        "        return out\n",
        "\n",
        "    def backward(self, dout):\n",
        "        dout[self.mask] = 0\n",
        "        dx = dout\n",
        "        return dx"
      ]
    },
    {
      "attachments": {},
      "cell_type": "markdown",
      "metadata": {
        "id": "MH_kQzedJFfw"
      },
      "source": [
        "### 행렬 연산에 대한 역전파\n",
        "\n",
        "# $\\qquad Y = X \\bullet W + B$"
      ]
    },
    {
      "attachments": {},
      "cell_type": "markdown",
      "metadata": {
        "id": "W-SedVrpJILw"
      },
      "source": [
        "#### 순전파(forward)\n",
        "  \n",
        "  - 형상(shape)을 맞춰줘야함\n",
        "  - 앞서 봤던 곱셈, 덧셈 계층을 합친 형태"
      ]
    },
    {
      "cell_type": "code",
      "execution_count": 57,
      "metadata": {
        "id": "QKIO7EzSJGD1"
      },
      "outputs": [
        {
          "name": "stdout",
          "output_type": "stream",
          "text": [
            "(3,)\n",
            "[4.17022005e-01 7.20324493e-01 1.14374817e-04]\n",
            "\n",
            "(3, 2)\n",
            "[[-0.80217284 -0.44887781]\n",
            " [-1.10593508 -1.65451545]\n",
            " [-2.3634686   1.13534535]]\n",
            "\n",
            "(2,)\n",
            "[-1.01701414  0.63736181]\n"
          ]
        }
      ],
      "source": [
        "np.random.seed(1)\n",
        "X = np.random.rand(3)\n",
        "W = np.random.randn(X.shape[0], 2)\n",
        "b = np.random.randn(W.shape[1])\n",
        "\n",
        "print(X.shape)\n",
        "print(X, end=\"\\n\\n\")\n",
        "print(W.shape)\n",
        "print(W, end=\"\\n\\n\")\n",
        "print(b.shape)\n",
        "print(b)"
      ]
    },
    {
      "cell_type": "code",
      "execution_count": 58,
      "metadata": {
        "id": "Tqvl76fFJNfU"
      },
      "outputs": [
        {
          "name": "stdout",
          "output_type": "stream",
          "text": [
            "(2,)\n",
            "[-2.14844031 -0.74148826]\n"
          ]
        }
      ],
      "source": [
        "Y = np.dot(X, W) + b\n",
        "print(Y.shape)\n",
        "print(Y)"
      ]
    },
    {
      "cell_type": "code",
      "execution_count": 59,
      "metadata": {
        "id": "vTjJIvg9JPMV"
      },
      "outputs": [
        {
          "name": "stdout",
          "output_type": "stream",
          "text": [
            "(3,)\n",
            "[4.17022005e-01 7.20324493e-01 1.14374817e-04]\n",
            "\n",
            "(2, 2)\n",
            "[[-0.80217284 -0.44887781]\n",
            " [-1.10593508 -1.65451545]]\n",
            "\n",
            "(2,)\n",
            "[0.53881673 0.41919451]\n"
          ]
        }
      ],
      "source": [
        "# shape이 안 맞을 때\n",
        "np.random.seed(1)\n",
        "X = np.random.rand(3)\n",
        "W = np.random.randn(2, 2)\n",
        "b = np.random.rand(2)\n",
        "\n",
        "print(X.shape)\n",
        "print(X, end=\"\\n\\n\")\n",
        "print(W.shape)\n",
        "print(W, end=\"\\n\\n\")\n",
        "print(b.shape)\n",
        "print(b)"
      ]
    },
    {
      "cell_type": "code",
      "execution_count": 61,
      "metadata": {
        "id": "QnB0hE6YJQuD"
      },
      "outputs": [
        {
          "ename": "ValueError",
          "evalue": "shapes (3,) and (2,2) not aligned: 3 (dim 0) != 2 (dim 0)",
          "output_type": "error",
          "traceback": [
            "\u001b[0;31m---------------------------------------------------------------------------\u001b[0m",
            "\u001b[0;31mValueError\u001b[0m                                Traceback (most recent call last)",
            "\u001b[1;32m/Users/yanghaejun/Documents/Suanlab(신경망)/딥러닝/8. 오차역전파(Backpropagation) copy.ipynb 셀 25\u001b[0m in \u001b[0;36m<cell line: 1>\u001b[0;34m()\u001b[0m\n\u001b[0;32m----> <a href='vscode-notebook-cell:/Users/yanghaejun/Documents/Suanlab%28%EC%8B%A0%EA%B2%BD%EB%A7%9D%29/%EB%94%A5%EB%9F%AC%EB%8B%9D/8.%20%EC%98%A4%EC%B0%A8%EC%97%AD%EC%A0%84%ED%8C%8C%28Backpropagation%29%20copy.ipynb#X33sZmlsZQ%3D%3D?line=0'>1</a>\u001b[0m Y \u001b[39m=\u001b[39m np\u001b[39m.\u001b[39;49mdot(X, W) \u001b[39m+\u001b[39m b\n\u001b[1;32m      <a href='vscode-notebook-cell:/Users/yanghaejun/Documents/Suanlab%28%EC%8B%A0%EA%B2%BD%EB%A7%9D%29/%EB%94%A5%EB%9F%AC%EB%8B%9D/8.%20%EC%98%A4%EC%B0%A8%EC%97%AD%EC%A0%84%ED%8C%8C%28Backpropagation%29%20copy.ipynb#X33sZmlsZQ%3D%3D?line=1'>2</a>\u001b[0m \u001b[39mprint\u001b[39m(Y\u001b[39m.\u001b[39mshape)\n\u001b[1;32m      <a href='vscode-notebook-cell:/Users/yanghaejun/Documents/Suanlab%28%EC%8B%A0%EA%B2%BD%EB%A7%9D%29/%EB%94%A5%EB%9F%AC%EB%8B%9D/8.%20%EC%98%A4%EC%B0%A8%EC%97%AD%EC%A0%84%ED%8C%8C%28Backpropagation%29%20copy.ipynb#X33sZmlsZQ%3D%3D?line=2'>3</a>\u001b[0m \u001b[39mprint\u001b[39m(Y)\n",
            "File \u001b[0;32m<__array_function__ internals>:5\u001b[0m, in \u001b[0;36mdot\u001b[0;34m(*args, **kwargs)\u001b[0m\n",
            "\u001b[0;31mValueError\u001b[0m: shapes (3,) and (2,2) not aligned: 3 (dim 0) != 2 (dim 0)"
          ]
        }
      ],
      "source": [
        "Y = np.dot(X, W) + b\n",
        "print(Y.shape)\n",
        "print(Y)"
      ]
    },
    {
      "attachments": {},
      "cell_type": "markdown",
      "metadata": {
        "id": "04GHZHAiJUGl"
      },
      "source": [
        "#### 역전파(1)\n",
        "\n",
        "##  $\\  Y = X \\bullet W$\n",
        "- $X :\\ \\ (2,\\ )$\n",
        "\n",
        "- $W :\\ \\ (2,\\ 3)$\n",
        "\n",
        "- $X \\bullet W :\\ \\ (3,\\ )$\n",
        "\n",
        "- $\\frac{\\partial L}{\\partial Y} :\\ \\ (3,\\ )$\n",
        "\n",
        "- $\\frac{\\partial L}{\\partial X} = \\frac{\\partial L}{\\partial Y}\\bullet W^T ,\\ (2,\\ )$\n",
        "\n",
        "- $\\frac{\\partial L}{\\partial W} = X^T \\bullet \\frac{\\partial L}{\\partial Y} ,\\ (2,\\ 3)$\n",
        "\n",
        "- ![](2023-05-18-16-49-33.png)\n",
        "\n"
      ]
    },
    {
      "cell_type": "code",
      "execution_count": 62,
      "metadata": {
        "id": "DCruMHCGJSHK"
      },
      "outputs": [
        {
          "name": "stdout",
          "output_type": "stream",
          "text": [
            "X\n",
            "[0.417022   0.72032449]\n",
            "W\n",
            "[[-0.52817175 -1.07296862  0.86540763]\n",
            " [-2.3015387   1.74481176 -0.7612069 ]]\n",
            "Y\n",
            "[-1.87811394  0.80937912 -0.18742195]\n"
          ]
        }
      ],
      "source": [
        "np.random.seed(1)\n",
        "X = np.random.rand(2)\n",
        "W = np.random.randn(X.shape[0], 3)\n",
        "Y = np.dot(X, W)\n",
        "\n",
        "print(\"X\\n{}\".format(X))\n",
        "print(\"W\\n{}\".format(W))\n",
        "print(\"Y\\n{}\".format(Y))"
      ]
    },
    {
      "cell_type": "code",
      "execution_count": 63,
      "metadata": {
        "id": "TEvyFXedJWC7"
      },
      "outputs": [
        {
          "name": "stdout",
          "output_type": "stream",
          "text": [
            "dL_dY\n",
            "[4.17022005e-01 7.20324493e-01 1.14374817e-04]\n",
            "dL_dX\n",
            "[-0.99304584  0.29695131]\n",
            "dL_dW\n",
            "[[1.73907352e-01 3.00391164e-01 4.76968156e-05]\n",
            " [3.00391164e-01 5.18867376e-01 8.23869824e-05]]\n"
          ]
        }
      ],
      "source": [
        "np.random.seed(1)\n",
        "dL_dY = np.random.rand(3)\n",
        "dL_dX = np.dot(dL_dY, W.T)\n",
        "dL_dW = np.dot(X.reshape(-1, 1), dL_dY.reshape(1, -1))\n",
        "\n",
        "print(\"dL_dY\\n{}\".format(dL_dY))\n",
        "print(\"dL_dX\\n{}\".format(dL_dX))\n",
        "print(\"dL_dW\\n{}\".format(dL_dW))"
      ]
    },
    {
      "attachments": {},
      "cell_type": "markdown",
      "metadata": {
        "id": "uuOVqySWJauS"
      },
      "source": [
        "#### 역전파(2)\n",
        "\n",
        "## $\\ (2)\\  Y = X \\bullet W + B$\n",
        "- $X, W$는 위와 동일\n",
        "\n",
        "- $B: \\ (3, )$\n",
        "\n",
        "- $\\frac{\\partial L}{\\partial B} = \\frac{\\partial L}{\\partial Y}, \\ (3,\\ )$"
      ]
    },
    {
      "cell_type": "code",
      "execution_count": 64,
      "metadata": {
        "id": "D_Jb9sY8JYGB"
      },
      "outputs": [
        {
          "name": "stdout",
          "output_type": "stream",
          "text": [
            "X\n",
            "[ 1.62434536 -0.61175641]\n",
            "W\n",
            "[[-0.52817175 -1.07296862  0.86540763]\n",
            " [-2.3015387   1.74481176 -0.7612069 ]]\n",
            "b\n",
            "[0.20445225 0.87811744 0.02738759]\n",
            "Y\n",
            "[ 0.75449997 -1.93215396  1.89878167]\n"
          ]
        }
      ],
      "source": [
        "np.random.seed(1)\n",
        "X = np.random.randn(2)\n",
        "W = np.random.randn(X.shape[0], 3)\n",
        "b = np.random.rand(3)\n",
        "Y = np.dot(X, W) + b\n",
        "\n",
        "print(\"X\\n{}\".format(X))\n",
        "print(\"W\\n{}\".format(W))\n",
        "print(\"b\\n{}\".format(b))\n",
        "print(\"Y\\n{}\".format(Y))"
      ]
    },
    {
      "cell_type": "code",
      "execution_count": 65,
      "metadata": {
        "id": "frdvKz8oJcoZ"
      },
      "outputs": [
        {
          "name": "stdout",
          "output_type": "stream",
          "text": [
            "dL_dY\n",
            "[4.17022005e-01 7.20324493e-01 1.14374817e-04]\n",
            "dL_dX\n",
            "[-0.99304584  0.29695131]\n",
            "dL_dW\n",
            "[[ 6.77387760e-01  1.17005575e+00  1.85784204e-04]\n",
            " [-2.55115886e-01 -4.40663129e-01 -6.99695281e-05]]\n",
            "dL_db\n",
            "[4.17022005e-01 7.20324493e-01 1.14374817e-04]\n"
          ]
        }
      ],
      "source": [
        "np.random.seed(1)\n",
        "dL_dY = np.random.rand(3)\n",
        "dL_dX = np.dot(dL_dY, W.T)\n",
        "dL_dW = np.dot(X.reshape(-1, 1), dL_dY.reshape(1, -1))\n",
        "dL_db = dL_dY\n",
        "\n",
        "print(\"dL_dY\\n{}\".format(dL_dY))\n",
        "print(\"dL_dX\\n{}\".format(dL_dX))\n",
        "print(\"dL_dW\\n{}\".format(dL_dW))\n",
        "print(\"dL_db\\n{}\".format(dL_db))"
      ]
    },
    {
      "attachments": {},
      "cell_type": "markdown",
      "metadata": {
        "id": "0FrBSUsRJgFl"
      },
      "source": [
        "#### 배치용 행렬 내적 계층\n",
        "- N개의 데이터에 대해,  \n",
        "# $\\qquad Y = X \\bullet W + B$\n",
        "\n",
        "  - $X : \\quad  (N,\\ 3)$\n",
        "\n",
        "  - $W : \\quad  (3,\\ 2)$\n",
        "\n",
        "  - $B : \\quad  (2,\\ )$\n",
        "  "
      ]
    },
    {
      "cell_type": "code",
      "execution_count": 66,
      "metadata": {
        "id": "AoWx5fDnJd-2"
      },
      "outputs": [
        {
          "name": "stdout",
          "output_type": "stream",
          "text": [
            "(4, 3)\n",
            "(3, 2)\n",
            "(2,)\n"
          ]
        }
      ],
      "source": [
        "# 순전파\n",
        "np.random.seed(1)\n",
        "X = np.random.rand(4, 3)\n",
        "W = np.random.randn(X.shape[1], 2)\n",
        "b = np.random.rand(2)\n",
        "\n",
        "print(X.shape)\n",
        "print(W.shape)\n",
        "print(b.shape)"
      ]
    },
    {
      "cell_type": "code",
      "execution_count": 67,
      "metadata": {
        "id": "EqhSX54BJmPQ"
      },
      "outputs": [
        {
          "name": "stdout",
          "output_type": "stream",
          "text": [
            "X\n",
            "[[4.17022005e-01 7.20324493e-01 1.14374817e-04]\n",
            " [3.02332573e-01 1.46755891e-01 9.23385948e-02]\n",
            " [1.86260211e-01 3.45560727e-01 3.96767474e-01]\n",
            " [5.38816734e-01 4.19194514e-01 6.85219500e-01]]\n",
            "W\n",
            "[[ 0.3190391  -0.24937038]\n",
            " [ 1.46210794 -2.06014071]\n",
            " [-0.3224172  -0.38405435]]\n",
            "b\n",
            "[0.80074457 0.96826158]\n"
          ]
        }
      ],
      "source": [
        "print(\"X\\n{}\".format(X))\n",
        "print(\"W\\n{}\".format(W))\n",
        "print(\"b\\n{}\".format(b))"
      ]
    },
    {
      "cell_type": "code",
      "execution_count": 68,
      "metadata": {
        "id": "_1IOOfhuJqF-"
      },
      "outputs": [
        {
          "name": "stdout",
          "output_type": "stream",
          "text": [
            "Y\n",
            "[[ 1.98694617 -0.6197451 ]\n",
            " [ 1.08200188  0.55506796]\n",
            " [ 1.23749128  0.0575298 ]\n",
            " [ 1.36462924 -0.29286457]]\n",
            "Y.shape: (4, 2)\n"
          ]
        }
      ],
      "source": [
        "Y = np.dot(X, W) + b\n",
        "print(\"Y\\n{}\".format(Y))\n",
        "print(\"Y.shape: {}\".format(Y.shape))"
      ]
    },
    {
      "cell_type": "code",
      "execution_count": 69,
      "metadata": {
        "id": "TOKsN2NHJrqT"
      },
      "outputs": [
        {
          "name": "stdout",
          "output_type": "stream",
          "text": [
            "dL_dY\n",
            "[[ 1.62434536 -0.61175641]\n",
            " [-0.52817175 -1.07296862]\n",
            " [ 0.86540763 -2.3015387 ]\n",
            " [ 1.74481176 -0.7612069 ]]\n",
            "dL_dX\n",
            "[[ 0.6707836   3.63527254 -0.28876918]\n",
            " [ 0.09905915  1.43822223  0.58236993]\n",
            " [ 0.85003444  6.00681293  0.60489365]\n",
            " [ 0.74648562  4.11929645 -0.27021251]]\n",
            "dL_dW\n",
            "[[ 1.61902902 -1.41834535]\n",
            " [ 2.12300985 -1.71254274]\n",
            " [ 1.49035979 -1.53391589]]\n",
            "dL_db\n",
            "[4.17022005e-01 7.20324493e-01 1.14374817e-04]\n"
          ]
        }
      ],
      "source": [
        "# 역전파\n",
        "np.random.seed(1)\n",
        "dL_dY = np.random.randn(4, 2)\n",
        "dL_dX = np.dot(dL_dY, W.T)\n",
        "dL_dW = np.dot(X.T, dL_dY)\n",
        "dL_dB = np.sum(dL_dY, axis=0)\n",
        "\n",
        "print(\"dL_dY\\n{}\".format(dL_dY))\n",
        "print(\"dL_dX\\n{}\".format(dL_dX))\n",
        "print(\"dL_dW\\n{}\".format(dL_dW))\n",
        "print(\"dL_db\\n{}\".format(dL_db))"
      ]
    },
    {
      "cell_type": "code",
      "execution_count": 70,
      "metadata": {
        "id": "YjIYrXGaJtEz"
      },
      "outputs": [],
      "source": [
        "class Layer():\n",
        "\n",
        "    def __init__(self):\n",
        "        np.random.seed(1)\n",
        "        self.x = None\n",
        "        self.W = np.random.randn(3, 2)\n",
        "        self.b = np.random.rand(2)\n",
        "        self.dW = None\n",
        "        self.db = None\n",
        "    \n",
        "    def forward(self, x):\n",
        "        self.x = x\n",
        "        out = np.dot(self.x, self.W) + self.b        \n",
        "        return out\n",
        "    \n",
        "    def backward(self, dout):\n",
        "        dL_dX = np.dot(dout, self.W.T)\n",
        "        self.dW = np.dot(self.x.T, dout)\n",
        "        self.db = np.sum(dout, axis=0)\n",
        "        return dL_dX, self.dW, self.db"
      ]
    },
    {
      "cell_type": "code",
      "execution_count": 71,
      "metadata": {
        "id": "twG43EylJvC-"
      },
      "outputs": [
        {
          "name": "stdout",
          "output_type": "stream",
          "text": [
            "Y\n",
            "[[ 0.31120019 -0.44508154]\n",
            " [ 1.77135114 -1.45854452]]\n"
          ]
        }
      ],
      "source": [
        "# 순전파\n",
        "layer = Layer()\n",
        "X = np.random.rand(2, 3)\n",
        "Y = layer.forward(X)\n",
        "\n",
        "print(\"Y\\n{}\".format(Y))"
      ]
    },
    {
      "cell_type": "code",
      "execution_count": 72,
      "metadata": {
        "id": "CrCDxHw5Jw3S"
      },
      "outputs": [
        {
          "name": "stdout",
          "output_type": "stream",
          "text": [
            "dL_dX\n",
            "[[ 0.23672463 -0.99314482 -1.29696067]\n",
            " [-0.18476811 -0.32445377 -0.69573113]]\n",
            "dL_dW\n",
            "[[0.08533777 0.34997613]\n",
            " [0.36624202 0.75869433]\n",
            " [0.01148513 0.18863809]]\n",
            "dL_db\n",
            "[0.41713638 1.02265707]\n"
          ]
        }
      ],
      "source": [
        "# 역전파\n",
        "np.random.seed(1)\n",
        "dL_dY = np.random.rand(2, 2)\n",
        "dL_dX, dL_dW, dL_db = layer.backward(dL_dY)\n",
        "\n",
        "print(\"dL_dX\\n{}\".format(dL_dX))\n",
        "print(\"dL_dW\\n{}\".format(dL_dW))\n",
        "print(\"dL_db\\n{}\".format(dL_db))"
      ]
    },
    {
      "attachments": {},
      "cell_type": "markdown",
      "metadata": {
        "id": "Bz-0zFPpJ3Jz"
      },
      "source": [
        "### MNIST 분류 with 역전파\n"
      ]
    },
    {
      "attachments": {},
      "cell_type": "markdown",
      "metadata": {
        "id": "eW3InPxBJ6qo"
      },
      "source": [
        "#### Modules Import"
      ]
    },
    {
      "cell_type": "code",
      "execution_count": 264,
      "metadata": {
        "id": "ZKtAhkm4J2Z3"
      },
      "outputs": [],
      "source": [
        "import tensorflow as tf\n",
        "import numpy as np\n",
        "from collections import OrderedDict"
      ]
    },
    {
      "attachments": {},
      "cell_type": "markdown",
      "metadata": {
        "id": "F1_2_jGMKGiT"
      },
      "source": [
        "#### 데이터 로드"
      ]
    },
    {
      "cell_type": "code",
      "execution_count": 265,
      "metadata": {
        "id": "S3SQq80sJ8mR"
      },
      "outputs": [
        {
          "name": "stdout",
          "output_type": "stream",
          "text": [
            "(60000, 28, 28)\n",
            "(10000, 28, 28)\n",
            "(60000,)\n",
            "(10000,)\n"
          ]
        }
      ],
      "source": [
        "np.random.seed(1)\n",
        "\n",
        "mnist = tf.keras.datasets.mnist\n",
        "\n",
        "(X_train, y_train), (X_test, y_test) = mnist.load_data()\n",
        "\n",
        "print(X_train.shape)\n",
        "print(X_test.shape)\n",
        "print(y_train.shape)\n",
        "print(y_test.shape)"
      ]
    },
    {
      "attachments": {},
      "cell_type": "markdown",
      "metadata": {
        "id": "mv_pjKdxKKIy"
      },
      "source": [
        "#### 데이터 전처리"
      ]
    },
    {
      "cell_type": "code",
      "execution_count": 266,
      "metadata": {},
      "outputs": [],
      "source": [
        "def mnist_for_flatten(x):\n",
        "    temp = np.zeros((x.shape[0], x[0].size))\n",
        "\n",
        "    for idx, data in enumerate(x):\n",
        "        temp[idx, :] = data.flatten()\n",
        "    \n",
        "    return temp.astype(np.float32)"
      ]
    },
    {
      "cell_type": "code",
      "execution_count": 267,
      "metadata": {
        "id": "B95lI86tKIyY"
      },
      "outputs": [],
      "source": [
        "X_train, X_test = mnist_for_flatten(X_train) / .255, mnist_for_flatten(X_test) / .255\n",
        "y_train, y_test = tf.one_hot(y_train, depth=10).numpy(), tf.one_hot(y_test, depth=10).numpy()"
      ]
    },
    {
      "cell_type": "code",
      "execution_count": 268,
      "metadata": {
        "id": "ar7DZIlMKLjJ"
      },
      "outputs": [
        {
          "name": "stdout",
          "output_type": "stream",
          "text": [
            "(60000, 784)\n",
            "(10000, 784)\n",
            "(60000, 10)\n",
            "(10000, 10)\n"
          ]
        }
      ],
      "source": [
        "print(X_train.shape)\n",
        "print(X_test.shape)\n",
        "print(y_train.shape)\n",
        "print(y_test.shape)"
      ]
    },
    {
      "attachments": {},
      "cell_type": "markdown",
      "metadata": {
        "id": "Oye4pC82KPbg"
      },
      "source": [
        "#### Hyper Parameters"
      ]
    },
    {
      "cell_type": "code",
      "execution_count": 269,
      "metadata": {
        "id": "rFeXORJjKM7s"
      },
      "outputs": [],
      "source": [
        "epochs = 1000\n",
        "learning_rate = 1e-3\n",
        "batch_size = 100\n",
        "train_size = X_train.shape[0]"
      ]
    },
    {
      "attachments": {},
      "cell_type": "markdown",
      "metadata": {
        "id": "cIdzuyRDKSm0"
      },
      "source": [
        "#### Util Functions\n",
        "- https://techblog-history-younghunjo1.tistory.com/372?category=1021615\n",
        "- https://techblog-history-younghunjo1.tistory.com/376\n",
        "- https://stellarway.tistory.com/21\n",
        "- https://deep-learning-study.tistory.com/18\n",
        "- https://dokylee.tistory.com/37\n",
        "- https://velog.io/@ksj5738/%EC%97%AD%EC%A0%84%ED%8C%8C-%EA%B5%AC%ED%98%84%ED%95%98%EA%B8%B0"
      ]
    },
    {
      "cell_type": "code",
      "execution_count": 270,
      "metadata": {
        "id": "8E2_fN1dKRzv"
      },
      "outputs": [],
      "source": [
        "def softmax(x):\n",
        "    if x.ndim == 2:\n",
        "        x = x.T\n",
        "        x = x - np.max(x, axis=0)\n",
        "        exp_x = np.exp(x)\n",
        "        sum_exp_x = np.sum(exp_x, axis=0)\n",
        "        y = exp_x / sum_exp_x\n",
        "        return y.T\n",
        "    \n",
        "    x = x - np.max(x)\n",
        "    exp_x = np.exp(x)\n",
        "    sum_exp_x = np.sum(exp_x)\n",
        "    y = exp_x / sum_exp_x\n",
        "    return y\n",
        "\n",
        "def mean_squared_error(pred_y, true_y):\n",
        "    return np.mean(np.square(true_y - pred_y))\n",
        "\n",
        "def cross_entropy_error(pred_y, true_y):\n",
        "    delta = 1e-7\n",
        "    if pred_y.ndim == 1:\n",
        "        pred_y = pred_y.reshape(1, pred_y.size)\n",
        "        true_y = true_y.reshape(1, true_y.size)\n",
        "   \n",
        "    if true_y.size == pred_y.size:\n",
        "        true_y = true_y.argmax(axis=1)\n",
        "\n",
        "    batch_size = pred_y.shape[0]\n",
        "    return -np.sum(np.log(pred_y[np.arange(batch_size), true_y] + delta)) / batch_size\n",
        "\n",
        "def softmax_loss(x, true_y):\n",
        "    pred_y = softmax(x)\n",
        "    return cross_entropy_error(pred_y, true_y)"
      ]
    },
    {
      "attachments": {},
      "cell_type": "markdown",
      "metadata": {
        "id": "SBvWUNh-KY2R"
      },
      "source": [
        "#### Util Classes"
      ]
    },
    {
      "attachments": {},
      "cell_type": "markdown",
      "metadata": {
        "id": "rc0sLXWJs8Dq"
      },
      "source": [
        "##### ReLU\n",
        "![](2023-05-22-10-58-45.png)"
      ]
    },
    {
      "cell_type": "code",
      "execution_count": 271,
      "metadata": {
        "id": "ej2m6Robs-uJ"
      },
      "outputs": [],
      "source": [
        "class ReLU():\n",
        "\n",
        "    def __init__(self):\n",
        "        self.mask = None\n",
        "    \n",
        "    def forward(self, x):\n",
        "        self.mask = ( x<= 0)\n",
        "        out = x.copy()\n",
        "        out[self.mask] = 0\n",
        "        return out\n",
        "    \n",
        "    def backward(self, dout):\n",
        "        dout[self.mask] = 0\n",
        "        dx = dout\n",
        "        return dx"
      ]
    },
    {
      "attachments": {},
      "cell_type": "markdown",
      "metadata": {
        "id": "RucLfG0EtYcf"
      },
      "source": [
        "##### Sigmoid\n",
        "![](2023-05-19-23-07-19.png)\n",
        "![](2023-05-19-23-07-34.png)"
      ]
    },
    {
      "cell_type": "code",
      "execution_count": 272,
      "metadata": {
        "id": "TWoPmtpNtZ__"
      },
      "outputs": [],
      "source": [
        "class Sigmoid():\n",
        "\n",
        "    def __init__(self):\n",
        "        self.out = None\n",
        "    \n",
        "    def forward(self, x):\n",
        "        out = 1 / (1 + np.exp(-x))\n",
        "        self.out = out\n",
        "        return out\n",
        "    \n",
        "    def backward(self, dout):\n",
        "        dx = dout * ((1 - self.out) * self.out)\n",
        "        return dx"
      ]
    },
    {
      "attachments": {},
      "cell_type": "markdown",
      "metadata": {
        "id": "IZZeNtd-tuM5"
      },
      "source": [
        "##### Layer"
      ]
    },
    {
      "cell_type": "code",
      "execution_count": 273,
      "metadata": {
        "id": "NEcCZ4bFtzgq"
      },
      "outputs": [],
      "source": [
        "class Layer():\n",
        "\n",
        "    def __init__(self, W, b):\n",
        "        self.x = None\n",
        "        self.x_origin_shape = None\n",
        "\n",
        "        self.W = W\n",
        "        self.b = b\n",
        "\n",
        "        self.dL_dW = None\n",
        "        self.dL_db = None\n",
        "\n",
        "    def forward(self, x):\n",
        "        # x에 대한 역전파를 수행할 때 모양이 바뀌어 버린 x의 형상을 원래대로 돌려 놓기 위해 원본 x의 형상을 저장\n",
        "        # x의 미준값의 형상은 x와 똑같아야 함\n",
        "        self.x_origin_shape = x.shape\n",
        "\n",
        "        x = x.reshape(x.shape[0], -1)\n",
        "        self.x = x\n",
        "\n",
        "        out = np.dot(self.x, self.W) + self.b\n",
        "        return out\n",
        "    \n",
        "    def backward(self, dout):\n",
        "        dx = np.dot(dout, self.W.T)\n",
        "        # 미분값을 입력값 x의 형상으로 다시 바꿔줌\n",
        "        dx = dx.reshape(*self.x_origin_shape)\n",
        "        self.dL_dW = np.dot(self.x.T, dout)\n",
        "        self.dL_db = np.sum(dout, axis=0)\n",
        "        return dx"
      ]
    },
    {
      "attachments": {},
      "cell_type": "markdown",
      "metadata": {
        "id": "s1Yqp7kVvOoD"
      },
      "source": [
        "#### Softmax\n",
        "![](2023-05-19-23-08-56.png)"
      ]
    },
    {
      "cell_type": "code",
      "execution_count": 274,
      "metadata": {
        "id": "0RXBVEMdvP9r"
      },
      "outputs": [],
      "source": [
        "class Softmax():\n",
        "\n",
        "    def __init__(self):\n",
        "        self.t = None\n",
        "        self.y = None\n",
        "        self.loss = None\n",
        "    \n",
        "    def forward(self, x, true_y):\n",
        "        self.y = softmax(x)\n",
        "        self.t = true_y\n",
        "        self.loss = cross_entropy_error(self.y, self.t)\n",
        "        return self.loss\n",
        "    \n",
        "    def backward(self, dout=1.0):\n",
        "        batch_size = self.t.shape[0]\n",
        "\n",
        "        # t가 원-핫 벡터일  경우\n",
        "        if self.t.size == self.y.size:\n",
        "            dx = (self.y - self.t) / batch_size\n",
        "        # t가 원-핫 벡터가 아닐 경우\n",
        "        else:\n",
        "            dx = self.y.copy()\n",
        "            # 원-핫 벡터가 아닐 경우 t는 정답 레이블의 인덱스로 생각할 수 있음\n",
        "            # y = [0.2, 0.1, 0.7](softmax 순전파로 나온 확률값), t = 2(1의 확률값을 가짐)\n",
        "            # dx[0, 2] = 0.7 => 0.7 - 1 => -0.3의 오차가 발생\n",
        "            dx[np.arange(batch_size), self.t] -= 1\n",
        "            dx = dx / batch_size\n",
        "        return dx"
      ]
    },
    {
      "attachments": {},
      "cell_type": "markdown",
      "metadata": {},
      "source": [
        "![](2023-05-20-21-37-09.png)"
      ]
    },
    {
      "cell_type": "code",
      "execution_count": 279,
      "metadata": {},
      "outputs": [],
      "source": [
        "class MyModel():\n",
        "\n",
        "    def __init__(self, input_nodes, hidden_size_list, output_units, activation=\"relu\"):\n",
        "        self.input_nodes = input_nodes\n",
        "        self.hidden_size_list = hidden_size_list\n",
        "        self.hidden_layer_num = len(hidden_size_list)\n",
        "        self.output_units = output_units\n",
        "        \n",
        "        # 가중치와 편향을 담을 params\n",
        "        self.params = {}\n",
        "        self.__init_weights(activation)\n",
        "\n",
        "        # activation 딕셔너리\n",
        "        activation_layer = {\"sigmoid\": Sigmoid, \"relu\": ReLU}\n",
        "\n",
        "        # 각 층에 대한 정보를 담을 layers\n",
        "        self.layers = OrderedDict()\n",
        "\n",
        "        # 은닉층 생성\n",
        "        for idx in range(1, self.hidden_layer_num + 1):\n",
        "            self.layers[\"Layer\" + str(idx)] = Layer(self.params[\"W\" + str(idx)], self.params[\"b\" + str(idx)])\n",
        "            self.layers[\"Activation_function\" + str(idx)] = activation_layer[activation]()\n",
        "        print(self.layers)\n",
        "        \n",
        "        # 출력층 생성\n",
        "        idx = self.hidden_layer_num + 1\n",
        "\n",
        "        self.layers[\"Layer\" + str(idx)] = Layer(self.params[\"W\" + str(idx)], self.params[\"b\" + str(idx)])\n",
        "        self.last_layer = Softmax()\n",
        "    \n",
        "    def __init_weights(self, activation):\n",
        "        # [784, 100, 64, 32, 10]\n",
        "        all_size_list = [self.input_nodes] + self.hidden_size_list + [self.output_units]\n",
        "\n",
        "        for idx in range(1, len(all_size_list)): # range(1, 5) => 1, 2, 3, 4\n",
        "            if activation.lower() == \"relu\": \n",
        "                weight_std = np.sqrt(2.0 / self.input_nodes)\n",
        "            elif activation.lower() == \"sigmoid\":\n",
        "                weight_std = np.sqrt(1.0 / self.input_nodes)\n",
        "            \n",
        "            self.params[\"W\" + str(idx)] = weight_std * np.random.randn(all_size_list[idx-1], all_size_list[idx])\n",
        "            self.params[\"b\" + str(idx)] = np.random.randn(all_size_list[idx])\n",
        "\n",
        "    def predict(self, x):\n",
        "        for layer in self.layers.values():\n",
        "            x = layer.forward(x)\n",
        "        return x\n",
        "    \n",
        "    def loss(self, x, true_y):\n",
        "        pred_y = self.predict(x)\n",
        "        loss = self.last_layer.forward(pred_y, true_y)\n",
        "        return loss\n",
        "    \n",
        "    def accuracy(self, x, true_y):\n",
        "        pred_y = self.predict(x)\n",
        "        y_argmax = pred_y.argmax(axis=1)\n",
        "\n",
        "        # true_y가 원-핫 벡터일 때\n",
        "        if true_y.ndim != 1:\n",
        "            t_argmax = true_y.argmax(axis=1)\n",
        "        else:\n",
        "            t_argmax = true_y\n",
        "\n",
        "        accuracy = np.sum(y_argmax == t_argmax) / float(x.shape[0])\n",
        "        return accuracy\n",
        "    \n",
        "    def gradient(self, x, true_y):\n",
        "        self.loss(x, true_y)\n",
        "\n",
        "        dout = 1\n",
        "        dout = self.last_layer.backward(dout)\n",
        "\n",
        "        layers = list(self.layers.values())\n",
        "        layers.reverse()\n",
        "        \n",
        "        for layer in layers:\n",
        "            dout = layer.backward(dout)\n",
        "\n",
        "        grads = {}\n",
        "        for idx in range(1, self.hidden_layer_num + 2):\n",
        "            grads[\"W\" + str(idx)] = self.layers[\"Layer\" + str(idx)].dL_dW\n",
        "            grads[\"b\" + str(idx)] = self.layers[\"Layer\" + str(idx)].dL_db\n",
        "\n",
        "        return grads"
      ]
    },
    {
      "attachments": {},
      "cell_type": "markdown",
      "metadata": {
        "id": "LwyNo3TsyDZR"
      },
      "source": [
        "#### 모델 생성 및 학습"
      ]
    },
    {
      "cell_type": "code",
      "execution_count": 280,
      "metadata": {
        "id": "Rb0HhW9x0mrN"
      },
      "outputs": [
        {
          "name": "stdout",
          "output_type": "stream",
          "text": [
            "OrderedDict([('Layer1', <__main__.Layer object at 0x16b3d4a90>), ('Activation_function1', <__main__.ReLU object at 0x16b37f2e0>), ('Layer2', <__main__.Layer object at 0x106e45d30>), ('Activation_function2', <__main__.ReLU object at 0x16b7b4c40>), ('Layer3', <__main__.Layer object at 0x294128340>), ('Activation_function3', <__main__.ReLU object at 0x2941564c0>)])\n"
          ]
        }
      ],
      "source": [
        "model = MyModel(28*28, [100, 64, 32], 10, activation=\"relu\")"
      ]
    },
    {
      "cell_type": "code",
      "execution_count": 281,
      "metadata": {
        "id": "VV5PciwAxM6s"
      },
      "outputs": [],
      "source": [
        "train_loss_list = []\n",
        "train_acc_list = []\n",
        "test_acc_list = []"
      ]
    },
    {
      "cell_type": "code",
      "execution_count": 282,
      "metadata": {
        "id": "dqqlZOF6KjDl"
      },
      "outputs": [
        {
          "name": "stdout",
          "output_type": "stream",
          "text": [
            "Epoch: 50, Train Accuracy: 0.5038333333333334, Test Accuracy: 0.5163, Cost: 1.4709151641023395\n",
            "Epoch: 100, Train Accuracy: 0.6326833333333334, Test Accuracy: 0.6471, Cost: 1.026318875729686\n",
            "Epoch: 150, Train Accuracy: 0.71215, Test Accuracy: 0.7203, Cost: 0.7919141001377689\n",
            "Epoch: 200, Train Accuracy: 0.7532666666666666, Test Accuracy: 0.756, Cost: 0.7925643057310344\n",
            "Epoch: 250, Train Accuracy: 0.7842833333333333, Test Accuracy: 0.7903, Cost: 0.6168676347152471\n",
            "Epoch: 300, Train Accuracy: 0.7976333333333333, Test Accuracy: 0.8038, Cost: 0.6428446250309032\n",
            "Epoch: 350, Train Accuracy: 0.82335, Test Accuracy: 0.8264, Cost: 0.3792380330285509\n",
            "Epoch: 400, Train Accuracy: 0.83605, Test Accuracy: 0.838, Cost: 0.5519740157296309\n",
            "Epoch: 450, Train Accuracy: 0.8487333333333333, Test Accuracy: 0.8502, Cost: 0.3828721481904271\n",
            "Epoch: 500, Train Accuracy: 0.8512666666666666, Test Accuracy: 0.8537, Cost: 0.4583409303854779\n",
            "Epoch: 550, Train Accuracy: 0.8621166666666666, Test Accuracy: 0.8652, Cost: 0.38011388227219683\n",
            "Epoch: 600, Train Accuracy: 0.8598, Test Accuracy: 0.8632, Cost: 0.3035033474778121\n",
            "Epoch: 650, Train Accuracy: 0.8674333333333333, Test Accuracy: 0.8682, Cost: 0.4493725551771098\n",
            "Epoch: 700, Train Accuracy: 0.8748166666666667, Test Accuracy: 0.8782, Cost: 0.6153222279689984\n",
            "Epoch: 750, Train Accuracy: 0.8791, Test Accuracy: 0.878, Cost: 0.267873068904924\n",
            "Epoch: 800, Train Accuracy: 0.8800666666666667, Test Accuracy: 0.8787, Cost: 0.3127348045274714\n",
            "Epoch: 850, Train Accuracy: 0.8788333333333334, Test Accuracy: 0.879, Cost: 0.22057457704541192\n",
            "Epoch: 900, Train Accuracy: 0.8865333333333333, Test Accuracy: 0.8839, Cost: 0.3580009939924629\n",
            "Epoch: 950, Train Accuracy: 0.8895833333333333, Test Accuracy: 0.89, Cost: 0.39923813436945266\n",
            "Epoch: 1000, Train Accuracy: 0.8903166666666666, Test Accuracy: 0.8891, Cost: 0.3076441013452647\n"
          ]
        }
      ],
      "source": [
        "for epoch in range(epochs):\n",
        "    batch_mask = np.random.choice(train_size, batch_size)\n",
        "    x_batch = X_train[batch_mask]\n",
        "    y_batch = y_train[batch_mask]\n",
        "\n",
        "    grads = model.gradient(x_batch, y_batch)\n",
        "\n",
        "    for key in grads.keys():\n",
        "        model.params[key] -= learning_rate * grads[key]\n",
        "    \n",
        "    loss = model.loss(x_batch, y_batch)\n",
        "    train_loss_list.append(loss)\n",
        "\n",
        "    if epoch % 50 == 49:\n",
        "        train_accuracy = model.accuracy(X_train, y_train)\n",
        "        test_accuracy = model.accuracy(X_test, y_test)\n",
        "        train_acc_list.append(train_accuracy)\n",
        "        test_acc_list.append(test_accuracy)\n",
        "        print(\"Epoch: {}, Train Accuracy: {}, Test Accuracy: {}, Cost: {}\".format(epoch + 1, train_accuracy, test_accuracy, loss))"
      ]
    },
    {
      "cell_type": "code",
      "execution_count": 287,
      "metadata": {},
      "outputs": [
        {
          "data": {
            "image/png": "[encoded data removed]",
            "text/plain": [
              "<Figure size 640x480 with 1 Axes>"
            ]
          },
          "metadata": {},
          "output_type": "display_data"
        }
      ],
      "source": [
        "plt.plot(np.arange(1000), train_loss_list, label=\"Train Loss\")\n",
        "plt.title(\"Train Loss\")\n",
        "plt.xlabel(\"Epochs\")\n",
        "plt.ylabel(\"Cost\")\n",
        "plt.legend()\n",
        "plt.show()"
      ]
    },
    {
      "cell_type": "code",
      "execution_count": 288,
      "metadata": {
        "id": "_BwHrt9nP8y8"
      },
      "outputs": [
        {
          "data": {
            "image/png": "[encoded data removed]",
            "text/plain": [
              "<Figure size 640x480 with 1 Axes>"
            ]
          },
          "metadata": {},
          "output_type": "display_data"
        }
      ],
      "source": [
        "plt.plot(np.arange(1000 // 50), train_acc_list, \"b\", label=\"Train Accuracy\")\n",
        "plt.plot(np.arange(1000 // 50), test_acc_list, \"r--\", label=\"Test Accuracy\")\n",
        "plt.title(\"Train Test Accuracy\")\n",
        "plt.xlabel(\"Epochs\")\n",
        "plt.ylabel(\"Accuracy\")\n",
        "plt.legend()\n",
        "plt.show()"
      ]
    }
  ],
  "metadata": {
    "colab": {
      "provenance": [],
      "toc_visible": true
    },
    "kernelspec": {
      "display_name": "Python 3",
      "name": "python3"
    },
    "language_info": {
      "codemirror_mode": {
        "name": "ipython",
        "version": 3
      },
      "file_extension": ".py",
      "mimetype": "text/x-python",
      "name": "python",
      "nbconvert_exporter": "python",
      "pygments_lexer": "ipython3",
      "version": "3.8.15"
    }
  },
  "nbformat": 4,
  "nbformat_minor": 0
}
