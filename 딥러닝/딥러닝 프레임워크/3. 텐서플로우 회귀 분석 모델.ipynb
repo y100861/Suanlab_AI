{
  "cells": [
    {
      "attachments": {},
      "cell_type": "markdown",
      "metadata": {
        "id": "ME4xVKRSvWxH"
      },
      "source": [
        "# 텐서플로우 회귀 분석 모델\n",
        "\n",
        "- 다양한 방법이 존재\n",
        "- 텐서플로우2만 사용하는 방법, 케라스를 이용한 방법, 둘을 모두 섞은 방법 등등  \n"
      ]
    },
    {
      "attachments": {},
      "cell_type": "markdown",
      "metadata": {
        "id": "Lw9JHQ2btU9O"
      },
      "source": [
        "## 선형 회귀(Linear Regression)"
      ]
    },
    {
      "cell_type": "code",
      "execution_count": 354,
      "metadata": {
        "id": "rc0SydSstXAj"
      },
      "outputs": [],
      "source": [
        "import numpy as np\n",
        "import tensorflow as tf\n",
        "import matplotlib.pyplot as plt\n",
        "plt.style.use([\"seaborn-whitegrid\"])"
      ]
    },
    {
      "cell_type": "code",
      "execution_count": 355,
      "metadata": {
        "id": "qvFld-m-tcnD"
      },
      "outputs": [],
      "source": [
        "learning_rate = 0.01\n",
        "epochs = 1000"
      ]
    },
    {
      "cell_type": "code",
      "execution_count": 356,
      "metadata": {
        "id": "0-3wzjHjtgBg"
      },
      "outputs": [],
      "source": [
        "x = np.random.randn(50)\n",
        "y = 2*x + np.random.randn(50)\n",
        "\n",
        "W = tf.Variable(np.random.randn(), name=\"weights\")\n",
        "b = tf.Variable(np.random.randn(), name=\"bias\")"
      ]
    },
    {
      "cell_type": "code",
      "execution_count": 357,
      "metadata": {
        "id": "yAdt62LKti-W"
      },
      "outputs": [],
      "source": [
        "def linear_regression(x):\n",
        "    return W * x + b\n",
        "\n",
        "def mean_square(pred_y, true_y):\n",
        "    return tf.reduce_mean(tf.square(pred_y - true_y))\n",
        "\n",
        "optimizer = tf.optimizers.SGD(learning_rate=learning_rate)"
      ]
    },
    {
      "cell_type": "code",
      "execution_count": 358,
      "metadata": {
        "id": "P8mLzC5vuCwp"
      },
      "outputs": [],
      "source": [
        "def run_optimization():\n",
        "    with tf.GradientTape() as tape:\n",
        "        pred_y = linear_regression(x)\n",
        "        true_y = y\n",
        "        loss = mean_square(pred_y, true_y)\n",
        "\n",
        "    grads = tape.gradient(loss, [W, b])\n",
        "\n",
        "    optimizer.apply_gradients(zip(grads, [W, b]))"
      ]
    },
    {
      "cell_type": "code",
      "execution_count": 359,
      "metadata": {
        "id": "dpMeJIaquPld"
      },
      "outputs": [
        {
          "name": "stdout",
          "output_type": "stream",
          "text": [
            "step:   50\tloss: 2.2508\tW: 0.8727\tb:0.1620\n",
            "step:  100\tloss: 1.0762\tW: 1.5881\tb:0.0005\n",
            "step:  150\tloss: 0.9494\tW: 1.8156\tb:-0.0804\n",
            "step:  200\tloss: 0.9348\tW: 1.8889\tb:-0.1169\n",
            "step:  250\tloss: 0.9331\tW: 1.9128\tb:-0.1325\n",
            "step:  300\tloss: 0.9329\tW: 1.9207\tb:-0.1389\n",
            "step:  350\tloss: 0.9328\tW: 1.9234\tb:-0.1415\n",
            "step:  400\tloss: 0.9328\tW: 1.9243\tb:-0.1426\n",
            "step:  450\tloss: 0.9328\tW: 1.9246\tb:-0.1430\n",
            "step:  500\tloss: 0.9328\tW: 1.9247\tb:-0.1431\n",
            "step:  550\tloss: 0.9328\tW: 1.9248\tb:-0.1432\n",
            "step:  600\tloss: 0.9328\tW: 1.9248\tb:-0.1432\n",
            "step:  650\tloss: 0.9328\tW: 1.9248\tb:-0.1432\n",
            "step:  700\tloss: 0.9328\tW: 1.9248\tb:-0.1432\n",
            "step:  750\tloss: 0.9328\tW: 1.9248\tb:-0.1432\n",
            "step:  800\tloss: 0.9328\tW: 1.9248\tb:-0.1432\n",
            "step:  850\tloss: 0.9328\tW: 1.9248\tb:-0.1432\n",
            "step:  900\tloss: 0.9328\tW: 1.9248\tb:-0.1432\n",
            "step:  950\tloss: 0.9328\tW: 1.9248\tb:-0.1432\n",
            "step: 1000\tloss: 0.9328\tW: 1.9248\tb:-0.1432\n"
          ]
        }
      ],
      "source": [
        "for epoch in range(1, epochs + 1):\n",
        "    run_optimization()\n",
        "\n",
        "    if epoch % 50 == 0:\n",
        "        pred = linear_regression(x)\n",
        "        loss = mean_square(pred, y)\n",
        "        print(\"step: {:4d}\\tloss: {:.4f}\\tW: {:.4f}\\tb:{:.4f}\".format(epoch, loss, W.numpy(), b.numpy()))"
      ]
    },
    {
      "cell_type": "code",
      "execution_count": 360,
      "metadata": {
        "id": "is397GkquXu1"
      },
      "outputs": [
        {
          "data": {
            "image/png": "[encoded data removed]",
            "text/plain": [
              "<Figure size 640x480 with 1 Axes>"
            ]
          },
          "metadata": {},
          "output_type": "display_data"
        }
      ],
      "source": [
        "plt.plot(x, y, \"ro\", label=\"Data\")\n",
        "plt.plot(x, linear_regression(x), label=\"Fitted Line\")\n",
        "plt.legend()\n",
        "plt.show()"
      ]
    },
    {
      "attachments": {},
      "cell_type": "markdown",
      "metadata": {
        "id": "hmwhh8v7ooEh"
      },
      "source": [
        "## 다항 회귀 (Nonlinear Regression)\n"
      ]
    },
    {
      "attachments": {},
      "cell_type": "markdown",
      "metadata": {
        "id": "JzPHMupUouoj"
      },
      "source": [
        "### modules import"
      ]
    },
    {
      "cell_type": "code",
      "execution_count": 361,
      "metadata": {
        "id": "nwjaLZxmosFb"
      },
      "outputs": [],
      "source": [
        "from tensorflow.keras.optimizers import Adam"
      ]
    },
    {
      "attachments": {},
      "cell_type": "markdown",
      "metadata": {
        "id": "a4Eypd3lqIH7"
      },
      "source": [
        "### Hyper Parameters"
      ]
    },
    {
      "cell_type": "code",
      "execution_count": 362,
      "metadata": {
        "id": "PwYv4RjrqKDk"
      },
      "outputs": [],
      "source": [
        "learning_rate = 0.04\n",
        "epochs = 1000"
      ]
    },
    {
      "attachments": {},
      "cell_type": "markdown",
      "metadata": {
        "id": "SBFf3xYkpK__"
      },
      "source": [
        "### 변수 지정"
      ]
    },
    {
      "cell_type": "code",
      "execution_count": 363,
      "metadata": {
        "id": "rdYHM586osJT"
      },
      "outputs": [],
      "source": [
        "a = tf.Variable(np.random.randn())\n",
        "b = tf.Variable(np.random.randn())\n",
        "c = tf.Variable(np.random.randn())"
      ]
    },
    {
      "cell_type": "code",
      "execution_count": 364,
      "metadata": {
        "id": "n0BoMoSgqmR2"
      },
      "outputs": [
        {
          "name": "stdout",
          "output_type": "stream",
          "text": [
            "-0.02229781\n",
            "0.9010793\n",
            "-0.24026275\n"
          ]
        }
      ],
      "source": [
        "print(a.numpy())\n",
        "print(b.numpy())\n",
        "print(c.numpy())"
      ]
    },
    {
      "attachments": {},
      "cell_type": "markdown",
      "metadata": {
        "id": "3-ks5u2ypTtb"
      },
      "source": [
        "### 데이터 지정"
      ]
    },
    {
      "cell_type": "code",
      "execution_count": 365,
      "metadata": {
        "id": "rgVzGBLEor8l"
      },
      "outputs": [],
      "source": [
        "x = np.random.randn(50)\n",
        "y = x**2 + x*np.random.randn(50)\n",
        "\n",
        "line_x = np.arange(min(x), max(x), 0.001)\n",
        "line_y = a*line_x**2 + b*line_x + c\n",
        "\n",
        "x_ = np.arange(-4.0, 4.0, 0.001)\n",
        "y_ = a*x_**2 + b*x_ + c"
      ]
    },
    {
      "cell_type": "code",
      "execution_count": 366,
      "metadata": {},
      "outputs": [
        {
          "data": {
            "image/png": "[encoded data removed]",
            "text/plain": [
              "<Figure size 640x480 with 1 Axes>"
            ]
          },
          "metadata": {},
          "output_type": "display_data"
        }
      ],
      "source": [
        "plt.scatter(x, y, label=\"X data\")\n",
        "plt.plot(line_x, line_y, \"r--\", label=\"origin line\")\n",
        "plt.plot(x_, y_, \"g--\", label=\"before train\")\n",
        "plt.xlim([-4.0, 4.0])\n",
        "plt.legend()\n",
        "plt.show()"
      ]
    },
    {
      "attachments": {},
      "cell_type": "markdown",
      "metadata": {
        "id": "7C56lq45uM-V"
      },
      "source": [
        "### Util Functions"
      ]
    },
    {
      "cell_type": "code",
      "execution_count": 367,
      "metadata": {
        "id": "_pvdH6U9uJ8i"
      },
      "outputs": [],
      "source": [
        "def run_optimization_2():\n",
        "    with tf.GradientTape() as tape:\n",
        "        pred_y = a*x**2 + b*x + c\n",
        "        true_y = y\n",
        "        loss = tf.reduce_mean(tf.square(pred_y - true_y))\n",
        "\n",
        "    grads = tape.gradient(loss, [a, b, c])\n",
        "\n",
        "    optimizer.apply_gradients(zip(grads, [a, b, c]))"
      ]
    },
    {
      "attachments": {},
      "cell_type": "markdown",
      "metadata": {
        "id": "kcme5VWPp6fz"
      },
      "source": [
        "### Optimizer"
      ]
    },
    {
      "cell_type": "code",
      "execution_count": 368,
      "metadata": {
        "id": "R4TSy8j2or5J"
      },
      "outputs": [],
      "source": [
        "optimizer = tf.keras.optimizers.Adam(learning_rate=learning_rate)"
      ]
    },
    {
      "attachments": {},
      "cell_type": "markdown",
      "metadata": {
        "id": "5QVfbg2uqEx8"
      },
      "source": [
        "### 학습"
      ]
    },
    {
      "cell_type": "code",
      "execution_count": 369,
      "metadata": {
        "id": "DBjCdWz9or1p"
      },
      "outputs": [
        {
          "name": "stdout",
          "output_type": "stream",
          "text": [
            "epoch:   50\ta: 1.0816\tb: 0.3418\tc: 0.1044\n",
            "epoch:  100\ta: 1.3005\tb: 0.3506\tc: -0.1098\n",
            "epoch:  150\ta: 1.3007\tb: 0.3481\tc: -0.1090\n",
            "epoch:  200\ta: 1.3002\tb: 0.3476\tc: -0.1081\n",
            "epoch:  250\ta: 1.3002\tb: 0.3476\tc: -0.1082\n",
            "epoch:  300\ta: 1.3002\tb: 0.3476\tc: -0.1082\n",
            "epoch:  350\ta: 1.3002\tb: 0.3476\tc: -0.1082\n",
            "epoch:  400\ta: 1.3002\tb: 0.3476\tc: -0.1082\n",
            "epoch:  450\ta: 1.3002\tb: 0.3476\tc: -0.1082\n",
            "epoch:  500\ta: 1.3002\tb: 0.3476\tc: -0.1082\n",
            "epoch:  550\ta: 1.3002\tb: 0.3476\tc: -0.1082\n",
            "epoch:  600\ta: 1.3002\tb: 0.3476\tc: -0.1082\n",
            "epoch:  650\ta: 1.3002\tb: 0.3476\tc: -0.1082\n",
            "epoch:  700\ta: 1.3002\tb: 0.3476\tc: -0.1082\n",
            "epoch:  750\ta: 1.3002\tb: 0.3476\tc: -0.1082\n",
            "epoch:  800\ta: 1.3002\tb: 0.3476\tc: -0.1082\n",
            "epoch:  850\ta: 1.3002\tb: 0.3476\tc: -0.1082\n",
            "epoch:  900\ta: 1.3002\tb: 0.3476\tc: -0.1082\n",
            "epoch:  950\ta: 1.3002\tb: 0.3476\tc: -0.1082\n",
            "epoch: 1000\ta: 1.3002\tb: 0.3476\tc: -0.1082\n"
          ]
        }
      ],
      "source": [
        "for epoch in range(1, epochs + 1):\n",
        "    run_optimization_2()\n",
        "\n",
        "    if epoch % 50 == 0:\n",
        "        pred = a*x**2 + b*x + c\n",
        "        loss = tf.reduce_mean(tf.square(pred - y))\n",
        "        print(\"epoch: {:4d}\\ta: {:.4f}\\tb: {:.4f}\\tc: {:.4f}\".format(epoch, a.numpy(), b.numpy(), c.numpy()))"
      ]
    },
    {
      "attachments": {},
      "cell_type": "markdown",
      "metadata": {
        "id": "Fbyej01IumFX"
      },
      "source": [
        "### 학습 후의 회귀선"
      ]
    },
    {
      "cell_type": "code",
      "execution_count": 370,
      "metadata": {
        "id": "gKqDyDwXugdP"
      },
      "outputs": [
        {
          "data": {
            "image/png": "[encoded data removed]",
            "text/plain": [
              "<Figure size 640x480 with 1 Axes>"
            ]
          },
          "metadata": {},
          "output_type": "display_data"
        }
      ],
      "source": [
        "line_x = np.arange(-4.0, 4.0, 0.001)\n",
        "line_y = a*x_**2 + b*x_ + c\n",
        "\n",
        "plt.scatter(x, y, label=\"X data\")\n",
        "plt.plot(line_x, line_y, \"r--\", label=\"after line\")\n",
        "plt.plot(x_, y_, \"g--\", label=\"origin line\")\n",
        "plt.xlim([-4.0, 4.0])\n",
        "plt.legend()\n",
        "plt.show()"
      ]
    },
    {
      "attachments": {},
      "cell_type": "markdown",
      "metadata": {
        "id": "jtCFXjS6uwry"
      },
      "source": [
        "## 로지스틱 회귀(Logistic Regression)\n",
        "- 다항 분류, MNIST"
      ]
    },
    {
      "attachments": {},
      "cell_type": "markdown",
      "metadata": {
        "id": "GIdxzXa1vJmt"
      },
      "source": [
        "### modules import"
      ]
    },
    {
      "cell_type": "code",
      "execution_count": 371,
      "metadata": {
        "id": "LGHeQjgYumXM"
      },
      "outputs": [],
      "source": [
        "from tensorflow.keras.datasets.mnist import load_data"
      ]
    },
    {
      "attachments": {},
      "cell_type": "markdown",
      "metadata": {
        "id": "96xeDaPJvFW1"
      },
      "source": [
        "### 하이퍼 파라미터 (Hyper Parameter)\n"
      ]
    },
    {
      "cell_type": "code",
      "execution_count": 372,
      "metadata": {
        "id": "-lPlvJz1u6k-"
      },
      "outputs": [],
      "source": [
        "num_classes = 10\n",
        "num_features = 784\n",
        "learning_rate = 0.1\n",
        "epochs = 1000\n",
        "batch_size = 256"
      ]
    },
    {
      "attachments": {},
      "cell_type": "markdown",
      "metadata": {
        "id": "ZM5M9h8NvDWV"
      },
      "source": [
        "### 데이터 로드"
      ]
    },
    {
      "cell_type": "code",
      "execution_count": 373,
      "metadata": {
        "id": "qnobrT26vAvQ"
      },
      "outputs": [],
      "source": [
        "(x_train, y_train), (x_test, y_test) = load_data()\n",
        "\n",
        "x_train, x_test = np.array(x_train, dtype=np.float32).reshape(-1, 28*28), np.array(x_test, dtype=np.float32).reshape(-1, 28*28)\n",
        "x_train, x_test = x_train / 255., x_test / 255."
      ]
    },
    {
      "attachments": {},
      "cell_type": "markdown",
      "metadata": {
        "id": "o3bJVBPtve43"
      },
      "source": [
        "### tf.data API 사용\n",
        "- 03 에서 다시 다룸 "
      ]
    },
    {
      "cell_type": "code",
      "execution_count": 374,
      "metadata": {
        "id": "-OWS2nV_vPly"
      },
      "outputs": [],
      "source": [
        "train_data = tf.data.Dataset.from_tensor_slices((x_train, y_train))\n",
        "train_data = train_data.repeat().shuffle(5000).batch(batch_size=batch_size).prefetch(1)"
      ]
    },
    {
      "attachments": {},
      "cell_type": "markdown",
      "metadata": {
        "id": "fHbbQ29awub_"
      },
      "source": [
        "### 변수 지정"
      ]
    },
    {
      "cell_type": "code",
      "execution_count": 375,
      "metadata": {
        "id": "NTMKizyIww0x"
      },
      "outputs": [],
      "source": [
        "W = tf.Variable(tf.random.normal(shape=(num_features, num_classes)), name=\"weights\")\n",
        "b = tf.Variable(tf.zeros(shape=(num_classes)), name=\"bias\")"
      ]
    },
    {
      "attachments": {},
      "cell_type": "markdown",
      "metadata": {
        "id": "kiK9LRUNwxC1"
      },
      "source": [
        "### Util Functions"
      ]
    },
    {
      "cell_type": "code",
      "execution_count": 376,
      "metadata": {
        "id": "ylkNeSdhvbi6"
      },
      "outputs": [],
      "source": [
        "def logistic_regression(x):\n",
        "    return tf.nn.softmax(tf.matmul(x, W) + b)\n",
        "\n",
        "def cross_entropy(pred_y, true_y):\n",
        "    true_y = tf.one_hot(true_y, depth=10)\n",
        "    # 최소값과 최대값으로 범위를 정하고 이 범위를 벗어나는 값들을 최소값과 최대값으로 변환\n",
        "    pred_y = tf.clip_by_value(pred_y, clip_value_min=1e-9, clip_value_max=1.)\n",
        "\n",
        "    return tf.reduce_mean(-tf.reduce_sum(true_y * tf.math.log(pred_y), axis=1))\n",
        "\n",
        "def accuracy(pred_y, true_y):\n",
        "    pred_y = tf.argmax(pred_y, axis=1)\n",
        "    true_y = tf.cast(true_y, dtype=tf.int64)\n",
        "    correct_prediction = tf.equal(pred_y, true_y)\n",
        "\n",
        "    return tf.reduce_mean(tf.cast(correct_prediction, dtype=tf.float32))"
      ]
    },
    {
      "attachments": {},
      "cell_type": "markdown",
      "metadata": {
        "id": "ePdcyFeUxVNu"
      },
      "source": [
        "### Optimizer"
      ]
    },
    {
      "cell_type": "code",
      "execution_count": 377,
      "metadata": {
        "id": "uAQHksH_xW6h"
      },
      "outputs": [],
      "source": [
        "optimizer = tf.optimizers.SGD(learning_rate=learning_rate)"
      ]
    },
    {
      "cell_type": "code",
      "execution_count": 378,
      "metadata": {
        "id": "hksbn4Njvvyk"
      },
      "outputs": [],
      "source": [
        "def run_optimization(x, y):\n",
        "    with tf.GradientTape() as tape:\n",
        "        pred_y = logistic_regression(x)\n",
        "        true_y = y\n",
        "        loss = cross_entropy(pred_y, true_y)\n",
        "\n",
        "    grads = tape.gradient(loss, [W, b])\n",
        "\n",
        "    optimizer.apply_gradients(zip(grads, [W, b]))"
      ]
    },
    {
      "attachments": {},
      "cell_type": "markdown",
      "metadata": {
        "id": "6B0i4_VvzheR"
      },
      "source": [
        "### 학습 진행"
      ]
    },
    {
      "cell_type": "code",
      "execution_count": 379,
      "metadata": {
        "id": "k1z97_GVwrOV"
      },
      "outputs": [
        {
          "name": "stdout",
          "output_type": "stream",
          "text": [
            "step:  100\tloss: 0.5642\t accuracy: 0.8906\n",
            "step:  200\tloss: 0.8282\t accuracy: 0.9023\n",
            "step:  300\tloss: 0.6046\t accuracy: 0.9062\n",
            "step:  400\tloss: 0.6988\t accuracy: 0.8984\n",
            "step:  500\tloss: 0.4647\t accuracy: 0.9141\n",
            "step:  600\tloss: 0.7532\t accuracy: 0.9102\n",
            "step:  700\tloss: 0.6367\t accuracy: 0.9258\n",
            "step:  800\tloss: 0.4575\t accuracy: 0.9141\n",
            "step:  900\tloss: 0.7474\t accuracy: 0.9297\n",
            "step: 1000\tloss: 0.6777\t accuracy: 0.9180\n"
          ]
        }
      ],
      "source": [
        "for epoch, (x_batch, y_batch) in enumerate(train_data.take(epochs), 1):\n",
        "    run_optimization(x_batch, y_batch)\n",
        "\n",
        "    if epoch % 100 == 0:\n",
        "        pred = logistic_regression(x_batch)\n",
        "        loss = cross_entropy(pred, y_batch)\n",
        "        acc = accuracy(pred, y_batch)\n",
        "        print(\"step: {:4d}\\tloss: {:.4f}\\t accuracy: {:.4f}\".format(epoch, loss, acc))"
      ]
    },
    {
      "attachments": {},
      "cell_type": "markdown",
      "metadata": {
        "id": "RTv-fBSMzj3e"
      },
      "source": [
        "###  테스트"
      ]
    },
    {
      "cell_type": "code",
      "execution_count": 380,
      "metadata": {
        "id": "MlKYyRnWxbzs"
      },
      "outputs": [
        {
          "name": "stdout",
          "output_type": "stream",
          "text": [
            "Test Accuracy: 0.9096\n"
          ]
        }
      ],
      "source": [
        "pred_y = logistic_regression(x_test)\n",
        "print(\"Test Accuracy: {:.4f}\".format(accuracy(pred_y, y_test)))"
      ]
    },
    {
      "attachments": {},
      "cell_type": "markdown",
      "metadata": {
        "id": "NX_R9BP3zkzH"
      },
      "source": [
        "### 시각화"
      ]
    },
    {
      "cell_type": "code",
      "execution_count": 391,
      "metadata": {
        "id": "Y2sVd13zyh3a"
      },
      "outputs": [
        {
          "data": {
            "image/png": "[encoded data removed]",
            "text/plain": [
              "<Figure size 1400x800 with 5 Axes>"
            ]
          },
          "metadata": {},
          "output_type": "display_data"
        }
      ],
      "source": [
        "num_images = 5\n",
        "\n",
        "test_images = x_test[:num_images]\n",
        "\n",
        "predictions = logistic_regression(test_images)\n",
        "\n",
        "plt.figure(figsize=(14, 8))\n",
        "\n",
        "for index, img in enumerate(test_images):\n",
        "    plt.subplot(1, 5, index+1)\n",
        "    plt.imshow(img.reshape(28, 28))\n",
        "    plt.title(\"Model Prediction: {}\".format(tf.argmax(predictions[index].numpy())))\n",
        "    plt.grid(False)\n",
        "\n",
        "plt.show()"
      ]
    }
  ],
  "metadata": {
    "accelerator": "GPU",
    "colab": {
      "provenance": []
    },
    "kernelspec": {
      "display_name": "Python 3",
      "name": "python3"
    },
    "language_info": {
      "codemirror_mode": {
        "name": "ipython",
        "version": 3
      },
      "file_extension": ".py",
      "mimetype": "text/x-python",
      "name": "python",
      "nbconvert_exporter": "python",
      "pygments_lexer": "ipython3",
      "version": "3.8.15"
    }
  },
  "nbformat": 4,
  "nbformat_minor": 0
}
