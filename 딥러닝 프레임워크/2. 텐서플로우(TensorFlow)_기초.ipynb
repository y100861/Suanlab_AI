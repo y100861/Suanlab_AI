{
  "cells": [
    {
      "cell_type": "markdown",
      "metadata": {
        "id": "mpf4TRENWJMZ"
      },
      "source": [
        "# 텐서플로우 (Tensorflow)\n",
        "\n",
        "<img src=\"https://upload.wikimedia.org/wikipedia/commons/thumb/1/11/TensorFlowLogo.svg/1200px-TensorFlowLogo.svg.png\" width=\"300\">\n",
        "\n",
        "- 가장 널리 쓰이는 딥러닝 프레임워크 중 하나\n",
        "\n",
        "- 구글이 주도적으로 개발하는 플랫폼\n",
        "\n",
        "- 파이썬, C++ API를 기본적으로 제공하고,  \n",
        "  자바스크립트(JavaScript), 자바(Java), 고(Go), 스위프트(Swift) 등 다양한 프로그래밍 언어를 지원\n",
        "\n",
        "- tf.keras를 중심으로 고수준 API 통합 (2.x 버전)\n",
        "\n",
        "- TPU(Tensor Processing Unit) 지원\n",
        "  - TPU는 GPU보다 전력을 적게 소모, 경제적\n",
        "  \n",
        "  - 일반적으로 32비트(float32)로 수행되는 곱셈 연산을 16비트(float16)로 낮춤"
      ]
    },
    {
      "cell_type": "markdown",
      "metadata": {
        "id": "a9-NEf2BWd4M"
      },
      "source": [
        "## 텐서플로우 아키텍쳐\n",
        "\n",
        "<img src=\"https://developers.google.com/machine-learning/crash-course/images/TFHierarchy.svg\">\n",
        "\n",
        "<sub>출처: https://developers.google.com/machine-learning/crash-course/first-steps-with-tensorflow/toolkit</sub>"
      ]
    },
    {
      "cell_type": "markdown",
      "metadata": {
        "id": "c_ktVhFhYUiE"
      },
      "source": [
        "## 텐서플로우 시작하기"
      ]
    },
    {
      "cell_type": "code",
      "execution_count": 1,
      "metadata": {
        "id": "SP9HL3ZvV0zR"
      },
      "outputs": [
        {
          "name": "stdout",
          "output_type": "stream",
          "text": [
            "Init Plugin\n",
            "Init Graph Optimizer\n",
            "Init Kernel\n"
          ]
        }
      ],
      "source": [
        "import tensorflow as tf\n",
        "import numpy as np\n",
        "import matplotlib.pyplot as plt"
      ]
    },
    {
      "cell_type": "code",
      "execution_count": null,
      "metadata": {
        "id": "KvPQ0N4_YhDt"
      },
      "outputs": [],
      "source": []
    },
    {
      "cell_type": "markdown",
      "metadata": {
        "id": "d-9usyAXY7Gw"
      },
      "source": [
        "### 텐서(Tensor)의 객체\n",
        "- 타입(Type): `string`, `float32`, `float16`, `int32`, `int8` 등\n",
        "\n",
        "- 형상(Shape): 0, 1, 2차원 등의 데이터 차원 \n",
        "\n",
        "- 축(Rank): 차원의 개수"
      ]
    },
    {
      "cell_type": "markdown",
      "metadata": {
        "id": "dZeigiNEZODl"
      },
      "source": [
        "### 텐서의 차원과 연산"
      ]
    },
    {
      "cell_type": "code",
      "execution_count": 2,
      "metadata": {
        "id": "GMVq68gUYksh"
      },
      "outputs": [
        {
          "name": "stdout",
          "output_type": "stream",
          "text": [
            "tf.Tensor(0, shape=(), dtype=int32)\n",
            "Metal device set to: Apple M1 Pro\n",
            "\n",
            "systemMemory: 16.00 GB\n",
            "maxCacheSize: 5.33 GB\n",
            "\n"
          ]
        },
        {
          "name": "stderr",
          "output_type": "stream",
          "text": [
            "2023-06-07 20:34:12.961173: I tensorflow/core/common_runtime/pluggable_device/pluggable_device_factory.cc:305] Could not identify NUMA node of platform GPU ID 0, defaulting to 0. Your kernel may not have been built with NUMA support.\n",
            "2023-06-07 20:34:12.961313: I tensorflow/core/common_runtime/pluggable_device/pluggable_device_factory.cc:271] Created TensorFlow device (/job:localhost/replica:0/task:0/device:GPU:0 with 0 MB memory) -> physical PluggableDevice (device: 0, name: METAL, pci bus id: <undefined>)\n"
          ]
        }
      ],
      "source": [
        "i8 = tf.constant(2)\n",
        "print(tf.rank(i8))"
      ]
    },
    {
      "cell_type": "code",
      "execution_count": null,
      "metadata": {
        "id": "MgOKILDqZZKP"
      },
      "outputs": [],
      "source": []
    },
    {
      "cell_type": "code",
      "execution_count": null,
      "metadata": {
        "id": "k74H8ImTZbWi"
      },
      "outputs": [],
      "source": []
    },
    {
      "cell_type": "code",
      "execution_count": 5,
      "metadata": {
        "id": "WmCCc587wkTy"
      },
      "outputs": [
        {
          "name": "stdout",
          "output_type": "stream",
          "text": [
            "tf.Tensor(\n",
            "[[31. 40.]\n",
            " [58. 76.]], shape=(2, 2), dtype=float32)\n"
          ]
        }
      ],
      "source": [
        "t1 = tf.constant([[2., 3., 4.],\n",
        "                  [5., 6., 7.]])\n",
        "t2 = tf.constant([[1., 2.],\n",
        "                  [3., 4.],\n",
        "                  [5., 6.]])\n",
        "\n",
        "print(t1 @ t2)"
      ]
    },
    {
      "cell_type": "markdown",
      "metadata": {
        "id": "z3mgwo7FZ_0S"
      },
      "source": [
        "### 난수 생성"
      ]
    },
    {
      "cell_type": "code",
      "execution_count": null,
      "metadata": {
        "id": "eaT2dUJlZ2Cd"
      },
      "outputs": [],
      "source": []
    },
    {
      "cell_type": "code",
      "execution_count": null,
      "metadata": {
        "id": "KfgimJg9aFgB"
      },
      "outputs": [],
      "source": []
    },
    {
      "cell_type": "code",
      "execution_count": null,
      "metadata": {
        "id": "R_xdzhG5aPxB"
      },
      "outputs": [],
      "source": []
    },
    {
      "cell_type": "markdown",
      "metadata": {
        "id": "Za7HlqVba5wD"
      },
      "source": [
        "### 즉시 실행 모드 (Eager Mode) 지원\n",
        "- 즉시 실행모드를 통해 텐서플로우를 파이썬처럼 사용할 수 있음\n",
        "\n",
        "- 1.x 버전에서는 '그래프'를 생성하고, 초기화 한 뒤에 세션을 통해 **값을 흐르게 하는 작업**을 진행해야함\n"
      ]
    },
    {
      "cell_type": "code",
      "execution_count": null,
      "metadata": {
        "id": "fVBqOSFrbQ1e"
      },
      "outputs": [],
      "source": []
    },
    {
      "cell_type": "code",
      "execution_count": null,
      "metadata": {
        "id": "1btItwSEbdEO"
      },
      "outputs": [],
      "source": []
    },
    {
      "cell_type": "code",
      "execution_count": null,
      "metadata": {
        "id": "SaOXtxLpbfDC"
      },
      "outputs": [],
      "source": []
    },
    {
      "cell_type": "code",
      "execution_count": null,
      "metadata": {
        "id": "UCApXIDNbtLF"
      },
      "outputs": [],
      "source": []
    },
    {
      "cell_type": "markdown",
      "metadata": {
        "id": "XyLkPW4Db67W"
      },
      "source": [
        "### 텐서 플로우 ↔ 넘파이\n",
        "- `numpy()`\n",
        "- `tf.convet_to_tensor()`"
      ]
    },
    {
      "cell_type": "code",
      "execution_count": null,
      "metadata": {
        "id": "c9AWzdJRb4Ez"
      },
      "outputs": [],
      "source": []
    },
    {
      "cell_type": "code",
      "execution_count": null,
      "metadata": {
        "id": "ql4O755kcfnk"
      },
      "outputs": [],
      "source": []
    },
    {
      "cell_type": "markdown",
      "metadata": {
        "id": "LmWKhcWVk00O"
      },
      "source": [
        "### 넘파이처럼 사용하기\n"
      ]
    },
    {
      "cell_type": "code",
      "execution_count": null,
      "metadata": {
        "id": "0on9RGRllNnX"
      },
      "outputs": [],
      "source": []
    },
    {
      "cell_type": "code",
      "execution_count": null,
      "metadata": {
        "id": "lhlyV7oklUIh"
      },
      "outputs": [],
      "source": []
    },
    {
      "cell_type": "code",
      "execution_count": null,
      "metadata": {
        "id": "glWL8MITlo7H"
      },
      "outputs": [],
      "source": []
    },
    {
      "cell_type": "code",
      "execution_count": null,
      "metadata": {
        "id": "RtzQuhwnmRdu"
      },
      "outputs": [],
      "source": []
    },
    {
      "cell_type": "code",
      "execution_count": null,
      "metadata": {
        "id": "Z5wQhZ0xmRi6"
      },
      "outputs": [],
      "source": []
    },
    {
      "cell_type": "code",
      "execution_count": null,
      "metadata": {
        "id": "Fj9RmYc6mRVh"
      },
      "outputs": [],
      "source": []
    },
    {
      "cell_type": "markdown",
      "metadata": {
        "id": "8y5wUIfpuhzL"
      },
      "source": [
        "### 타입 변환\n",
        "- 텐서의 기본 dtype\n",
        "  - float형 텐서: `float32`\n",
        "  - int형 텐서: `int32`\n",
        "\n",
        "- 연산시 텐서의 타입을 맞춰줘야 함\n",
        "  - `float32` ~ `float32`\n",
        "  - `int32` ~ `int32`\n",
        "  - `flot32` ~ `int32` (x)\n",
        "\n",
        "- 타입변환에는 `tf.cast()` 사용"
      ]
    },
    {
      "cell_type": "code",
      "execution_count": null,
      "metadata": {
        "id": "RMwFpHCAvEFG"
      },
      "outputs": [],
      "source": []
    },
    {
      "cell_type": "code",
      "execution_count": null,
      "metadata": {
        "id": "rVb9KZSKui_c"
      },
      "outputs": [],
      "source": []
    },
    {
      "cell_type": "code",
      "execution_count": null,
      "metadata": {
        "id": "-Lz79b8Fumsy"
      },
      "outputs": [],
      "source": []
    },
    {
      "cell_type": "code",
      "execution_count": null,
      "metadata": {
        "id": "qH2HEmwIvbUx"
      },
      "outputs": [],
      "source": []
    },
    {
      "cell_type": "markdown",
      "metadata": {
        "id": "E3IX5JwVZePH"
      },
      "source": [
        "### AutoGraph (오토그래프)\n",
        "\n",
        "- Tensorflow가 작업을 좀 더 빠르게 동작하게 하기 위한 방법으로 Graph로 만들어 연산을 진행\n",
        "\n",
        "- `tf.Graph`\n",
        "\n",
        "- 유연성이 있음\n",
        "\n",
        "  - 모바일 애플리케이션, 임베디드 기기, 백엔드 서버와 같이 Python 인터프리터가 없는 환경에서 Tensorflow 사용 가능 "
      ]
    },
    {
      "cell_type": "code",
      "execution_count": 2,
      "metadata": {
        "id": "78VD-XWRaea5"
      },
      "outputs": [],
      "source": [
        "import timeit"
      ]
    },
    {
      "cell_type": "markdown",
      "metadata": {
        "id": "YxNt6nejc8Ei"
      },
      "source": [
        "### @tf.function\n",
        "- 자동으로 그래프를 생성(Auto Graph)\n",
        "\n",
        "- 그래프로 변환하여 사용 -> GPU 연산 가능\n",
        "\n",
        "- 파이썬으로 구성된 함수를 텐서플로우의 그래프 형태로 다루고 싶을 때 사용가능\n",
        "\n",
        "\n",
        "- 원본 함수가 필요하다면 `(tf.function).python_function()`"
      ]
    },
    {
      "cell_type": "code",
      "execution_count": 3,
      "metadata": {
        "id": "gq5NFuLjcukw"
      },
      "outputs": [
        {
          "name": "stdout",
          "output_type": "stream",
          "text": [
            "Metal device set to: Apple M1 Pro\n",
            "\n",
            "systemMemory: 16.00 GB\n",
            "maxCacheSize: 5.33 GB\n",
            "\n",
            "tf.Tensor(-13, shape=(), dtype=int32)\n",
            "tf.Tensor(-13, shape=(), dtype=int32)\n"
          ]
        },
        {
          "name": "stderr",
          "output_type": "stream",
          "text": [
            "2023-06-08 20:08:03.599659: I tensorflow/core/common_runtime/pluggable_device/pluggable_device_factory.cc:305] Could not identify NUMA node of platform GPU ID 0, defaulting to 0. Your kernel may not have been built with NUMA support.\n",
            "2023-06-08 20:08:03.599775: I tensorflow/core/common_runtime/pluggable_device/pluggable_device_factory.cc:271] Created TensorFlow device (/job:localhost/replica:0/task:0/device:GPU:0 with 0 MB memory) -> physical PluggableDevice (device: 0, name: METAL, pci bus id: <undefined>)\n",
            "2023-06-08 20:08:03.607520: I tensorflow/compiler/mlir/mlir_graph_optimization_pass.cc:176] None of the MLIR Optimization Passes are enabled (registered 2)\n",
            "2023-06-08 20:08:03.609689: W tensorflow/core/platform/profile_utils/cpu_utils.cc:128] Failed to get CPU frequency: 0 Hz\n",
            "2023-06-08 20:08:03.619554: I tensorflow/core/grappler/optimizers/custom_graph_optimizer_registry.cc:112] Plugin optimizer for device_type GPU is enabled.\n"
          ]
        }
      ],
      "source": [
        "@tf.function\n",
        "def my_function(x):\n",
        "    return x**2 - 10*x + 3\n",
        "\n",
        "print(my_function(2))\n",
        "print(my_function(tf.constant(2)))"
      ]
    },
    {
      "cell_type": "code",
      "execution_count": 4,
      "metadata": {
        "id": "hR3RAAIQd8J7"
      },
      "outputs": [
        {
          "name": "stdout",
          "output_type": "stream",
          "text": [
            "-13\n",
            "tf.Tensor(-13, shape=(), dtype=int32)\n"
          ]
        }
      ],
      "source": [
        "def my_function_(x):\n",
        "    return x**2 - 10*x + 3\n",
        "\n",
        "print(my_function_(2))\n",
        "print(my_function_(tf.constant(2)))"
      ]
    },
    {
      "cell_type": "code",
      "execution_count": 5,
      "metadata": {
        "id": "bsy3eabmy8X8"
      },
      "outputs": [
        {
          "name": "stdout",
          "output_type": "stream",
          "text": [
            "<tensorflow.python.eager.def_function.Function object at 0x17fb547c0>\n",
            "tf.Tensor(-13, shape=(), dtype=int32)\n"
          ]
        }
      ],
      "source": [
        "tf_my_func = tf.function(my_function_)\n",
        "print(tf_my_func)\n",
        "print(tf_my_func(2))"
      ]
    },
    {
      "cell_type": "code",
      "execution_count": 6,
      "metadata": {
        "id": "TgwwgQvjzKqn"
      },
      "outputs": [
        {
          "data": {
            "text/plain": [
              "-13"
            ]
          },
          "execution_count": 6,
          "metadata": {},
          "output_type": "execute_result"
        }
      ],
      "source": [
        "tf_my_func.python_function(2)"
      ]
    },
    {
      "cell_type": "code",
      "execution_count": 7,
      "metadata": {
        "id": "1pkBOpWhaehO"
      },
      "outputs": [
        {
          "name": "stderr",
          "output_type": "stream",
          "text": [
            "2023-06-08 20:08:04.906898: I tensorflow/core/grappler/optimizers/custom_graph_optimizer_registry.cc:112] Plugin optimizer for device_type GPU is enabled.\n"
          ]
        },
        {
          "data": {
            "text/plain": [
              "array([[12.]], dtype=float32)"
            ]
          },
          "execution_count": 7,
          "metadata": {},
          "output_type": "execute_result"
        }
      ],
      "source": [
        "def function_to_get_faster(x, y, b):\n",
        "    x = tf.matmul(x, y)\n",
        "    x = x + b\n",
        "    return x\n",
        "\n",
        "a_function_that_uses_a_graph = tf.function(function_to_get_faster)\n",
        "\n",
        "x1 = tf.constant([[1.0, 2.0]])\n",
        "y1 = tf.constant([[2.0],\n",
        "                  [3.0]])\n",
        "b1 = tf.constant(4.0)\n",
        "\n",
        "a_function_that_uses_a_graph(x1, y1, b1).numpy()"
      ]
    },
    {
      "cell_type": "code",
      "execution_count": 8,
      "metadata": {
        "id": "rcLAgLKfaepn"
      },
      "outputs": [
        {
          "name": "stderr",
          "output_type": "stream",
          "text": [
            "2023-06-08 20:08:05.097954: I tensorflow/core/grappler/optimizers/custom_graph_optimizer_registry.cc:112] Plugin optimizer for device_type GPU is enabled.\n"
          ]
        },
        {
          "data": {
            "text/plain": [
              "array([[12.]], dtype=float32)"
            ]
          },
          "execution_count": 8,
          "metadata": {},
          "output_type": "execute_result"
        }
      ],
      "source": [
        "def inner_function(x, y, b):\n",
        "    x = tf.matmul(x, y)\n",
        "    x = x + b\n",
        "    return x\n",
        "\n",
        "@tf.function\n",
        "def outer_function(x):\n",
        "    y = tf.constant([[2.0], [3.0]])\n",
        "    b = tf.constant(4.0)\n",
        "    return inner_function(x, y, b)\n",
        "\n",
        "outer_function(tf.constant([[1.0, 2.0]])).numpy()"
      ]
    },
    {
      "cell_type": "markdown",
      "metadata": {
        "id": "mXLYEP4fbSYe"
      },
      "source": [
        "텐서플로우가 `tf.function`으로 변환한 코드"
      ]
    },
    {
      "cell_type": "code",
      "execution_count": 9,
      "metadata": {
        "id": "i6cqueZuWN1g"
      },
      "outputs": [
        {
          "name": "stdout",
          "output_type": "stream",
          "text": [
            "def tf__my_function(x):\n",
            "    with ag__.FunctionScope('my_function', 'fscope', ag__.ConversionOptions(recursive=True, user_requested=True, optional_features=(), internal_convert_user_code=True)) as fscope:\n",
            "        do_return = False\n",
            "        retval_ = ag__.UndefinedReturnValue()\n",
            "        try:\n",
            "            do_return = True\n",
            "            retval_ = (((ag__.ld(x) ** 2) - (10 * ag__.ld(x))) + 3)\n",
            "        except:\n",
            "            do_return = False\n",
            "            raise\n",
            "        return fscope.ret(retval_, do_return)\n",
            "\n",
            "def tf__my_function_(x):\n",
            "    with ag__.FunctionScope('my_function_', 'fscope', ag__.ConversionOptions(recursive=True, user_requested=True, optional_features=(), internal_convert_user_code=True)) as fscope:\n",
            "        do_return = False\n",
            "        retval_ = ag__.UndefinedReturnValue()\n",
            "        try:\n",
            "            do_return = True\n",
            "            retval_ = (((ag__.ld(x) ** 2) - (10 * ag__.ld(x))) + 3)\n",
            "        except:\n",
            "            do_return = False\n",
            "            raise\n",
            "        return fscope.ret(retval_, do_return)\n",
            "\n",
            "def tf__outer_function(x):\n",
            "    with ag__.FunctionScope('outer_function', 'fscope', ag__.ConversionOptions(recursive=True, user_requested=True, optional_features=(), internal_convert_user_code=True)) as fscope:\n",
            "        do_return = False\n",
            "        retval_ = ag__.UndefinedReturnValue()\n",
            "        y = ag__.converted_call(ag__.ld(tf).constant, ([[2.0], [3.0]],), None, fscope)\n",
            "        b = ag__.converted_call(ag__.ld(tf).constant, (4.0,), None, fscope)\n",
            "        try:\n",
            "            do_return = True\n",
            "            retval_ = ag__.converted_call(ag__.ld(inner_function), (ag__.ld(x), ag__.ld(y), ag__.ld(b)), None, fscope)\n",
            "        except:\n",
            "            do_return = False\n",
            "            raise\n",
            "        return fscope.ret(retval_, do_return)\n",
            "\n"
          ]
        }
      ],
      "source": [
        "print(tf.autograph.to_code(my_function.python_function))\n",
        "print(tf.autograph.to_code(tf_my_func.python_function))\n",
        "print(tf.autograph.to_code(outer_function.python_function))"
      ]
    },
    {
      "cell_type": "markdown",
      "metadata": {
        "id": "hf2KCJu1bdg_"
      },
      "source": [
        "\n",
        " 속도 향상\n"
      ]
    },
    {
      "cell_type": "code",
      "execution_count": 13,
      "metadata": {
        "id": "6GC4f2HvbfNT"
      },
      "outputs": [
        {
          "name": "stdout",
          "output_type": "stream",
          "text": [
            "Eager time: 6.231666708999967\n"
          ]
        },
        {
          "name": "stderr",
          "output_type": "stream",
          "text": [
            "2023-06-08 20:13:42.063275: I tensorflow/core/grappler/optimizers/custom_graph_optimizer_registry.cc:112] Plugin optimizer for device_type GPU is enabled.\n"
          ]
        },
        {
          "name": "stdout",
          "output_type": "stream",
          "text": [
            "Graph time: 4.872056458000031\n"
          ]
        }
      ],
      "source": [
        "class SequentialModel(tf.keras.Model):\n",
        "    def __init__(self, **kwargs):\n",
        "        super(SequentialModel, self).__init__(**kwargs)\n",
        "        self.flatten = tf.keras.layers.Flatten(input_shape=(28, 28))\n",
        "        self.dense1 = tf.keras.layers.Dense(128, activation=\"relu\")\n",
        "        self.dropout = tf.keras.layers.Dropout(rate=0.2)\n",
        "        self.dense3 = tf.keras.layers.Dense(10)\n",
        "    \n",
        "    def call(self, x):\n",
        "        x = self.flatten(x)\n",
        "        x = self.dense1(x)\n",
        "        x = self.dropout(x)\n",
        "        x = self.dense3(x)\n",
        "        return x\n",
        "    \n",
        "input_data = tf.random.uniform(shape=(60, 28, 28))\n",
        "\n",
        "eager_model = SequentialModel()\n",
        "graph_model = tf.function(eager_model)\n",
        "\n",
        "print(\"Eager time:\", timeit.timeit(lambda: eager_model(input_data), number=10000))\n",
        "print(\"Graph time:\", timeit.timeit(lambda: graph_model(input_data), number=10000))"
      ]
    },
    {
      "cell_type": "markdown",
      "metadata": {},
      "source": []
    },
    {
      "cell_type": "markdown",
      "metadata": {
        "id": "EizHAodregRR"
      },
      "source": [
        "### 변수 생성\n",
        "\n",
        "- `tf.Variable`\n",
        "- 딥러닝 모델 학습 시, 그래프 연산이 필요할 때 사용"
      ]
    },
    {
      "cell_type": "code",
      "execution_count": 14,
      "metadata": {
        "id": "PybmfPcAeH-S"
      },
      "outputs": [
        {
          "name": "stdout",
          "output_type": "stream",
          "text": [
            "<tf.Variable 'Variable:0' shape=() dtype=float32, numpy=20.0>\n"
          ]
        }
      ],
      "source": [
        "X = tf.Variable(20.0)\n",
        "print(X)"
      ]
    },
    {
      "cell_type": "markdown",
      "metadata": {
        "id": "qY_oUvVneiHH"
      },
      "source": [
        "### Autograd (자동 미분)\n",
        "\n",
        "- `tf.GradientTape` API를 사용\n",
        "- `tf.Variable` 같은 일부 입력에 대한 기울기 계산\n",
        "  - 기본적으로 한번만 사용됨\n",
        "- 변수가 포함된 연산만 기록"
      ]
    },
    {
      "cell_type": "code",
      "execution_count": 15,
      "metadata": {
        "id": "4_lrTYZfeiHO"
      },
      "outputs": [],
      "source": [
        "x = tf.Variable(3.0)\n",
        "\n",
        "with tf.GradientTape() as tape:\n",
        "    y = x**2"
      ]
    },
    {
      "cell_type": "code",
      "execution_count": 16,
      "metadata": {
        "id": "1Tq7MMJTeiHQ"
      },
      "outputs": [
        {
          "data": {
            "text/plain": [
              "6.0"
            ]
          },
          "execution_count": 16,
          "metadata": {},
          "output_type": "execute_result"
        }
      ],
      "source": [
        "dy_dx = tape.gradient(y, x)\n",
        "dy_dx.numpy()"
      ]
    },
    {
      "cell_type": "code",
      "execution_count": 18,
      "metadata": {
        "id": "y0wty7V3eiHT"
      },
      "outputs": [],
      "source": [
        "# x2 =  tf.Variable(4.0)\n",
        "\n",
        "# dy_dx = tape.gradient(y, x2)\n",
        "# dy_dx.numpy()"
      ]
    },
    {
      "cell_type": "code",
      "execution_count": 19,
      "metadata": {
        "id": "itJftqGlfWmy"
      },
      "outputs": [
        {
          "name": "stdout",
          "output_type": "stream",
          "text": [
            "dz_dx: tf.Tensor(4.0, shape=(), dtype=float32)\n",
            "dz_dy: None\n"
          ]
        }
      ],
      "source": [
        "x = tf.Variable(2.0)\n",
        "y = tf.Variable(3.0)\n",
        "\n",
        "with tf.GradientTape() as tape:\n",
        "    y_sq = y**2\n",
        "    z = x**2 + tf.stop_gradient(y_sq)\n",
        "\n",
        "grad = tape.gradient(z, {\"x\": x, \"y\": y})\n",
        "\n",
        "print(\"dz_dx:\", grad[\"x\"])\n",
        "print(\"dz_dy:\", grad[\"y\"])"
      ]
    },
    {
      "cell_type": "code",
      "execution_count": 24,
      "metadata": {
        "id": "Np-JoGSneiHW"
      },
      "outputs": [],
      "source": [
        "weights = tf.Variable(tf.random.normal(shape=(3, 2)), name=\"weights\")\n",
        "biases = tf.Variable(tf.zeros(2, dtype=tf.float32), name=\"biases\")\n",
        "x = [[1., 2., 3.]]\n",
        "\n",
        "with tf.GradientTape(persistent=True) as tape:\n",
        "    y = x @ weights + biases\n",
        "    loss = tf.reduce_mean(y**2)"
      ]
    },
    {
      "cell_type": "code",
      "execution_count": 25,
      "metadata": {
        "id": "OMhB1rONeiHY"
      },
      "outputs": [],
      "source": [
        "[dL_dw, dL_db] = tape.gradient(loss, [weights, biases])"
      ]
    },
    {
      "cell_type": "code",
      "execution_count": 26,
      "metadata": {
        "id": "7mS4UrqgeiHa"
      },
      "outputs": [
        {
          "name": "stdout",
          "output_type": "stream",
          "text": [
            "tf.Tensor(\n",
            "[[ 6.260763   2.3078365]\n",
            " [12.521526   4.615673 ]\n",
            " [18.78229    6.9235096]], shape=(3, 2), dtype=float32)\n",
            "tf.Tensor([6.260763  2.3078365], shape=(2,), dtype=float32)\n"
          ]
        }
      ],
      "source": [
        "print(dL_dw)\n",
        "print(dL_db)"
      ]
    },
    {
      "cell_type": "code",
      "execution_count": 29,
      "metadata": {
        "id": "UIFUed4yeiHc"
      },
      "outputs": [
        {
          "name": "stdout",
          "output_type": "stream",
          "text": [
            "<tf.Variable 'weights:0' shape=(3, 2) dtype=float32, numpy=\n",
            "array([[ 0.894392  ,  1.2188493 ],\n",
            "       [-0.63956976, -0.96142286],\n",
            "       [-1.9974698 , -0.4106613 ]], dtype=float32)>\n",
            "tf.Tensor(\n",
            "[[-46.420395  -9.582739]\n",
            " [-58.025494 -11.978424]\n",
            " [-69.63059  -14.374108]], shape=(3, 2), dtype=float32)\n"
          ]
        }
      ],
      "source": [
        "weights2 = tf.Variable(tf.random.normal(shape=(3, 2)), name=\"weights\")\n",
        "biases2 = tf.Variable(tf.zeros(2, dtype=tf.float32), name=\"biases\")\n",
        "x2 = [[4., 5., 6.]]\n",
        "\n",
        "with tf.GradientTape(persistent=True) as tape:\n",
        "    y = x2 @ weights2 + biases2\n",
        "    loss = tf.reduce_mean(y**2)\n",
        "\n",
        "[dL_dw, dL_db] = tape.gradient(loss, [weights2, biases2])\n",
        "\n",
        "print(weights2)\n",
        "print(dL_dw)"
      ]
    },
    {
      "cell_type": "code",
      "execution_count": 30,
      "metadata": {
        "id": "b1X3900EeiHd"
      },
      "outputs": [],
      "source": [
        "del tape"
      ]
    },
    {
      "cell_type": "markdown",
      "metadata": {
        "id": "FcG5ddWTgjMq"
      },
      "source": [
        "## 간단한 신경망 구조 "
      ]
    },
    {
      "cell_type": "markdown",
      "metadata": {
        "id": "fXE8tlU7gkrV"
      },
      "source": [
        "### 뉴런\n",
        "- 입력 → 연산 → 활성화함수 → 출력"
      ]
    },
    {
      "cell_type": "code",
      "execution_count": 3,
      "metadata": {
        "id": "B-DUt6cZe7iD"
      },
      "outputs": [],
      "source": [
        "def sigmoid(x):\n",
        "    return 1 / (1 + np.exp(-x))\n",
        "\n",
        "def Neuron(x, W, bias=0):\n",
        "    z = np.dot(x, W) + bias\n",
        "    return sigmoid(z)"
      ]
    },
    {
      "cell_type": "code",
      "execution_count": 4,
      "metadata": {
        "id": "r8baxM6mg_XQ"
      },
      "outputs": [
        {
          "name": "stdout",
          "output_type": "stream",
          "text": [
            "x.shape: (1, 2)\n",
            "W.shape: (2, 2)\n",
            "\n",
            "tf.Tensor([[-1.8059578 -1.9729264]], shape=(1, 2), dtype=float32)\n",
            "tf.Tensor(\n",
            "[[ 0.00760138  0.69223094]\n",
            " [-0.15100335 -1.5968612 ]], shape=(2, 2), dtype=float32)\n",
            "\n",
            "[[0.57057333 0.8699311 ]]\n"
          ]
        }
      ],
      "source": [
        "x = tf.random.normal(shape=(1, 2), mean=0, stddev=1)\n",
        "W = tf.random.normal(shape=(2, 2), mean=0, stddev=1)\n",
        "\n",
        "print(\"x.shape:\", x.shape)\n",
        "print(\"W.shape:\", W.shape, end=\"\\n\\n\")\n",
        "\n",
        "print(x)\n",
        "print(W, end=\"\\n\\n\")\n",
        "\n",
        "print(Neuron(x, W))"
      ]
    },
    {
      "cell_type": "markdown",
      "metadata": {
        "id": "ATmvx1utmmMl"
      },
      "source": [
        "### 퍼셉트론 학습 알고리즘 (가중치 업데이트)\n",
        "\n",
        "## $\\qquad w^{(next step)} = w + \\eta \\ (y - \\tilde{y}) \\ x$\n",
        "\n",
        "- $w \\ $: 가중치\n",
        "\n",
        "- $\\eta \\ $ : 학습률\n",
        "\n",
        "- $y \\ $ : 정답 레이블\n",
        "\n",
        "- $\\tilde{y} \\ $: 예측 레이블\n"
      ]
    },
    {
      "cell_type": "code",
      "execution_count": 5,
      "metadata": {
        "id": "7f-3qRCHXO9m"
      },
      "outputs": [
        {
          "name": "stdout",
          "output_type": "stream",
          "text": [
            "[0.53222745]\n",
            "y: 0\n"
          ]
        }
      ],
      "source": [
        "x = 1\n",
        "y = 0\n",
        "W = tf.random.normal([1], mean=0, stddev=1)\n",
        "print(Neuron(x, W))\n",
        "print(\"y:\", y)"
      ]
    },
    {
      "cell_type": "code",
      "execution_count": 6,
      "metadata": {
        "id": "S8JG-rbdml_v"
      },
      "outputs": [
        {
          "name": "stdout",
          "output_type": "stream",
          "text": [
            "100\t[-0.10436254]\t[0.10436254]\n",
            "200\t[-0.05296091]\t[0.05296091]\n",
            "300\t[-0.03512104]\t[0.03512104]\n",
            "400\t[-0.02618832]\t[0.02618832]\n",
            "500\t[-0.02084945]\t[0.02084945]\n",
            "600\t[-0.01730631]\t[0.01730631]\n",
            "700\t[-0.01478623]\t[0.01478623]\n",
            "800\t[-0.01290337]\t[0.01290337]\n",
            "900\t[-0.01144378]\t[0.01144378]\n",
            "1000\t[-0.01027956]\t[0.01027956]\n"
          ]
        }
      ],
      "source": [
        "for i in range(1000):\n",
        "    output = Neuron(x, W)\n",
        "    error = y - output\n",
        "    W += 0.1 * error * x\n",
        "\n",
        "    if i % 100 == 99:\n",
        "        print(\"{}\\t{}\\t{}\".format(i+1, error, output))"
      ]
    },
    {
      "cell_type": "code",
      "execution_count": 7,
      "metadata": {
        "id": "vrJKCpf0VyOR"
      },
      "outputs": [],
      "source": [
        "def Neuron2(x, W, bias=0):\n",
        "    z = tf.matmul(x, W, transpose_b=True) + bias\n",
        "    return sigmoid(z)   "
      ]
    },
    {
      "cell_type": "code",
      "execution_count": 8,
      "metadata": {
        "id": "dkLHtKQ8htRg"
      },
      "outputs": [
        {
          "name": "stdout",
          "output_type": "stream",
          "text": [
            "[[0.30443236]]\n",
            "y: tf.Tensor([1.], shape=(1,), dtype=float32)\n"
          ]
        }
      ],
      "source": [
        "x = tf.random.normal(shape=(1, 3), mean=0, stddev=1)\n",
        "y = tf.ones(1)\n",
        "W = tf.random.normal(shape=(1, 3), mean=0, stddev=1)\n",
        "\n",
        "print(Neuron2(x, W))\n",
        "print(\"y:\", y)"
      ]
    },
    {
      "cell_type": "code",
      "execution_count": 9,
      "metadata": {
        "id": "udZu2_rQo1SH"
      },
      "outputs": [
        {
          "name": "stdout",
          "output_type": "stream",
          "text": [
            "100\t[[0.05547416]]\t[[0.94452584]]\n",
            "200\t[[0.02664423]]\t[[0.97335577]]\n",
            "300\t[[0.01744115]]\t[[0.98255885]]\n",
            "400\t[[0.01294374]]\t[[0.98705626]]\n",
            "500\t[[0.01028353]]\t[[0.9897165]]\n",
            "600\t[[0.00852758]]\t[[0.9914724]]\n",
            "700\t[[0.00728238]]\t[[0.9927176]]\n",
            "800\t[[0.00635362]]\t[[0.9936464]]\n",
            "900\t[[0.00563455]]\t[[0.99436545]]\n",
            "1000\t[[0.00506139]]\t[[0.9949386]]\n"
          ]
        }
      ],
      "source": [
        "for i in range(1000):\n",
        "    output = Neuron2(x, W)\n",
        "    error = y - output\n",
        "    W += 0.1 * error * x\n",
        "\n",
        "    if i % 100 == 99:\n",
        "        print(\"{}\\t{}\\t{}\".format(i+1, error, output))"
      ]
    },
    {
      "cell_type": "code",
      "execution_count": 10,
      "metadata": {
        "id": "X7rw7DAxbCcu"
      },
      "outputs": [
        {
          "name": "stdout",
          "output_type": "stream",
          "text": [
            "x\t: [[ 0.42678377  0.33458892 -0.13393275]]\n",
            "weights\t: [[ 0.2872586  -0.62095994  0.6467695 ]]\n",
            "bias\t: [[0.]]\n"
          ]
        }
      ],
      "source": [
        "x = tf.random.normal(shape=(1, 3), mean=0, stddev=1)\n",
        "weights = tf.random.normal(shape=(1, 3), mean=0, stddev=1)\n",
        "bias = tf.zeros(shape=(1, 1))\n",
        "\n",
        "y = tf.ones(shape=(1, ))\n",
        "\n",
        "print(\"x\\t: {}\\nweights\\t: {}\\nbias\\t: {}\".format(x, weights, bias))"
      ]
    },
    {
      "cell_type": "code",
      "execution_count": 11,
      "metadata": {
        "id": "Of-hjiq1pKF2"
      },
      "outputs": [
        {
          "name": "stdout",
          "output_type": "stream",
          "text": [
            "100\t[[0.08093655]]\t[[0.91906345]]\n",
            "200\t[[0.04035151]]\t[[0.9596485]]\n",
            "300\t[[0.02666569]]\t[[0.9733343]]\n",
            "400\t[[0.0198651]]\t[[0.9801349]]\n",
            "500\t[[0.01581216]]\t[[0.98418784]]\n",
            "600\t[[0.01312572]]\t[[0.9868743]]\n",
            "700\t[[0.0112161]]\t[[0.9887839]]\n",
            "800\t[[0.00978959]]\t[[0.9902104]]\n",
            "900\t[[0.0086838]]\t[[0.9913162]]\n",
            "1000\t[[0.00780171]]\t[[0.9921983]]\n"
          ]
        }
      ],
      "source": [
        "for i in range(1000):\n",
        "    output = Neuron2(x, weights, bias=bias)\n",
        "    error = y - output\n",
        "    weights += 0.1 * error * x\n",
        "    bias += 0.1 * error * 1\n",
        "\n",
        "    if i % 100 == 99:\n",
        "        print(\"{}\\t{}\\t{}\".format(i+1, error, output))"
      ]
    },
    {
      "cell_type": "code",
      "execution_count": 12,
      "metadata": {
        "id": "KHVs1hALZ_bA"
      },
      "outputs": [
        {
          "name": "stdout",
          "output_type": "stream",
          "text": [
            "x\t: [[ 0.42678377  0.33458892 -0.13393275]]\n",
            "weights\t: [[1.9196627  0.6588089  0.13449088]]\n",
            "bias\t: [[3.8248994]]\n"
          ]
        }
      ],
      "source": [
        "print(\"x\\t: {}\\nweights\\t: {}\\nbias\\t: {}\".format(x, weights, bias))"
      ]
    },
    {
      "cell_type": "markdown",
      "metadata": {
        "id": "LQ-syOVwfjB9"
      },
      "source": [
        "### AND Gate"
      ]
    },
    {
      "cell_type": "code",
      "execution_count": 19,
      "metadata": {
        "id": "HyRma3NorTRs"
      },
      "outputs": [
        {
          "name": "stdout",
          "output_type": "stream",
          "text": [
            "Epoch    0\tError [0.70363724]\n",
            "Epoch  200\tError [0.24189341]\n",
            "Epoch  400\tError [0.14930844]\n",
            "Epoch  600\tError [0.10718703]\n",
            "Epoch  800\tError [0.08326745]\n",
            "Epoch 1000\tError [0.06792611]\n",
            "Epoch 1200\tError [0.05728364]\n",
            "Epoch 1400\tError [0.049483]\n",
            "Epoch 1600\tError [0.04352796]\n",
            "Epoch 1800\tError [0.03883743]\n",
            "\n",
            "가중치\t: [6.9880476 6.9849224]\n",
            "편향\t: [-10.647642]\n"
          ]
        }
      ],
      "source": [
        "X = np.array([[0, 0],\n",
        "              [0, 1],\n",
        "              [1, 0],\n",
        "              [1, 1]])\n",
        "Y = np.array([[0],\n",
        "              [0],\n",
        "              [0],\n",
        "              [1]])\n",
        "\n",
        "W = tf.random.normal([2], mean=0, stddev=1)\n",
        "b = tf.random.normal([1], mean=0, stddev=1)\n",
        "\n",
        "for i in range(2000):\n",
        "    error_sum = 0\n",
        "    \n",
        "    for j in range(4):\n",
        "        output = sigmoid(np.sum(X[j] * W) + b)\n",
        "        error = Y[j][0] - output\n",
        "        W += 0.1 * error * X[j]\n",
        "        b += 0.1 * error * 1\n",
        "        error_sum += error\n",
        "\n",
        "    if i % 200 == 0:\n",
        "        print(\"Epoch {:4d}\\tError {}\".format(i, error))\n",
        "\n",
        "print(\"\\n가중치\\t: {}\".format(W))\n",
        "print(\"편향\\t: {}\".format(b))"
      ]
    },
    {
      "cell_type": "code",
      "execution_count": 20,
      "metadata": {
        "id": "OylWtem2stH0"
      },
      "outputs": [
        {
          "name": "stdout",
          "output_type": "stream",
          "text": [
            "X: [0 0]  Y: [0]  Output: [2.3756227e-05]\n",
            "X: [0 1]  Y: [0]  Output: [0.02502053]\n",
            "X: [1 0]  Y: [0]  Output: [0.02509688]\n",
            "X: [1 1]  Y: [1]  Output: [0.9652876]\n"
          ]
        }
      ],
      "source": [
        "for i in range(4):\n",
        "    print(\"X: {}  Y: {}  Output: {}\".format(X[i], Y[i], sigmoid(np.sum(X[i] * W) + b)))"
      ]
    },
    {
      "cell_type": "markdown",
      "metadata": {
        "id": "pADtZrsagJ64"
      },
      "source": [
        "### OR Gate"
      ]
    },
    {
      "cell_type": "code",
      "execution_count": 23,
      "metadata": {
        "id": "X1drqmeNuxIU"
      },
      "outputs": [
        {
          "name": "stdout",
          "output_type": "stream",
          "text": [
            "Epoch:    0\t Error Sum: [1.3004936]\n",
            "Epoch:  200\t Error Sum: [-0.04507075]\n",
            "Epoch:  400\t Error Sum: [-0.02463207]\n",
            "Epoch:  600\t Error Sum: [-0.01682312]\n",
            "Epoch:  800\t Error Sum: [-0.01272965]\n",
            "Epoch: 1000\t Error Sum: [-0.01022037]\n",
            "Epoch: 1200\t Error Sum: [-0.00852914]\n",
            "Epoch: 1400\t Error Sum: [-0.00731327]\n",
            "Epoch: 1600\t Error Sum: [-0.00639786]\n",
            "Epoch: 1800\t Error Sum: [-0.00568534]\n",
            "\n",
            "가중치\t: [8.2320795 8.234465 ]\n",
            "편향\t: [-3.6486676]\n"
          ]
        }
      ],
      "source": [
        "X = np.array([[0, 0],\n",
        "              [0, 1],\n",
        "              [1, 0],\n",
        "              [1, 1]])\n",
        "Y = np.array([[0],\n",
        "              [1],\n",
        "              [1],\n",
        "              [1]])\n",
        "\n",
        "W = tf.random.normal(shape=([2]), mean=0, stddev=1)\n",
        "b = tf.random.normal(shape=([1]), mean=0, stddev=1)\n",
        "\n",
        "for i in range(2000):\n",
        "    error_sum = 0\n",
        "\n",
        "    for j in range(4):\n",
        "        output = sigmoid(np.sum(X[j] * W) + b)\n",
        "        error = Y[j][0] - output\n",
        "        W += 0.1 * error * X[j]\n",
        "        b += 0.1 * error * 1\n",
        "        error_sum += error\n",
        "    \n",
        "    if i % 200 == 0:\n",
        "        print(\"Epoch: {:4d}\\t Error Sum: {}\".format(i, error_sum))\n",
        "\n",
        "print(\"\\n가중치\\t: {}\".format(W))\n",
        "print(\"편향\\t: {}\".format(b))"
      ]
    },
    {
      "cell_type": "code",
      "execution_count": 25,
      "metadata": {
        "id": "FGG4_ZXGgLNd"
      },
      "outputs": [
        {
          "name": "stdout",
          "output_type": "stream",
          "text": [
            "X: [0 0], Y: [0], Output: [0.02536562]\n",
            "X: [0 1], Y: [1], Output: [0.98990726]\n",
            "X: [1 0], Y: [1], Output: [0.9898835]\n",
            "X: [1 1], Y: [1], Output: [0.99999726]\n"
          ]
        }
      ],
      "source": [
        "for i in range(4):\n",
        "    print(\"X: {}, Y: {}, Output: {}\".format(X[i], Y[i], sigmoid(np.sum(X[i] * W) + b)))"
      ]
    },
    {
      "cell_type": "markdown",
      "metadata": {
        "id": "IQyeNLdagPw1"
      },
      "source": [
        "### XOR Gate"
      ]
    },
    {
      "cell_type": "code",
      "execution_count": 26,
      "metadata": {
        "id": "W-BYPnNBgNd9"
      },
      "outputs": [],
      "source": [
        "from tensorflow.keras.models import Sequential\n",
        "from tensorflow.keras.layers import Dense\n",
        "from tensorflow.keras.optimizers import SGD"
      ]
    },
    {
      "cell_type": "code",
      "execution_count": 30,
      "metadata": {},
      "outputs": [],
      "source": [
        "X = np.array([[0, 0],\n",
        "              [0, 1],\n",
        "              [1, 0],\n",
        "              [1, 1]])\n",
        "\n",
        "Y = np.array([[0],\n",
        "              [1],\n",
        "              [1],\n",
        "              [0]])"
      ]
    },
    {
      "cell_type": "code",
      "execution_count": 49,
      "metadata": {
        "id": "z1EWz3N5gRfH"
      },
      "outputs": [
        {
          "name": "stdout",
          "output_type": "stream",
          "text": [
            "Model: \"sequential_6\"\n",
            "_________________________________________________________________\n",
            "Layer (type)                 Output Shape              Param #   \n",
            "=================================================================\n",
            "dense_12 (Dense)             (None, 2)                 6         \n",
            "_________________________________________________________________\n",
            "dense_13 (Dense)             (None, 1)                 3         \n",
            "=================================================================\n",
            "Total params: 9\n",
            "Trainable params: 9\n",
            "Non-trainable params: 0\n",
            "_________________________________________________________________\n"
          ]
        }
      ],
      "source": [
        "model = Sequential([Dense(2, activation=\"sigmoid\", input_shape=(2, )),\n",
        "                    Dense(1, activation=\"sigmoid\")])\n",
        "\n",
        "model.compile(optimizer=\"adam\",\n",
        "              loss=\"binary_crossentropy\",\n",
        "              metrics=[\"accuracy\"])\n",
        "\n",
        "model.summary()"
      ]
    },
    {
      "cell_type": "code",
      "execution_count": 50,
      "metadata": {
        "id": "duXh8GGkgUET"
      },
      "outputs": [
        {
          "name": "stderr",
          "output_type": "stream",
          "text": [
            "2023-06-09 15:35:03.572043: I tensorflow/core/grappler/optimizers/custom_graph_optimizer_registry.cc:112] Plugin optimizer for device_type GPU is enabled.\n"
          ]
        }
      ],
      "source": [
        "model_hist = model.fit(X, Y,\n",
        "                       epochs=2000,\n",
        "                       batch_size=1,\n",
        "                       verbose=0)"
      ]
    },
    {
      "cell_type": "code",
      "execution_count": 51,
      "metadata": {
        "id": "HYf3E6w6gV3z"
      },
      "outputs": [
        {
          "name": "stdout",
          "output_type": "stream",
          "text": [
            "WARNING:tensorflow:6 out of the last 10 calls to <function Model.make_predict_function.<locals>.predict_function at 0x169431d30> triggered tf.function retracing. Tracing is expensive and the excessive number of tracings could be due to (1) creating @tf.function repeatedly in a loop, (2) passing tensors with different shapes, (3) passing Python objects instead of tensors. For (1), please define your @tf.function outside of the loop. For (2), @tf.function has experimental_relax_shapes=True option that relaxes argument shapes that can avoid unnecessary retracing. For (3), please refer to https://www.tensorflow.org/guide/function#controlling_retracing and https://www.tensorflow.org/api_docs/python/tf/function for  more details.\n"
          ]
        },
        {
          "name": "stderr",
          "output_type": "stream",
          "text": [
            "2023-06-09 15:35:41.378582: I tensorflow/core/grappler/optimizers/custom_graph_optimizer_registry.cc:112] Plugin optimizer for device_type GPU is enabled.\n"
          ]
        },
        {
          "data": {
            "text/plain": [
              "array([[0.42669797],\n",
              "       [0.5071342 ],\n",
              "       [0.5126998 ],\n",
              "       [0.5424763 ]], dtype=float32)"
            ]
          },
          "execution_count": 51,
          "metadata": {},
          "output_type": "execute_result"
        }
      ],
      "source": [
        "model.predict(X)"
      ]
    },
    {
      "attachments": {},
      "cell_type": "markdown",
      "metadata": {
        "id": "NgHTUlX68Fyk"
      },
      "source": [
        "## XOR Gate의 'LOSS' 시각화\n"
      ]
    },
    {
      "cell_type": "code",
      "execution_count": 53,
      "metadata": {
        "id": "a8azIYHQ8H16"
      },
      "outputs": [
        {
          "data": {
            "text/plain": [
              "[<matplotlib.lines.Line2D at 0x2ab98c190>]"
            ]
          },
          "execution_count": 53,
          "metadata": {},
          "output_type": "execute_result"
        },
        {
          "data": {
            "image/png": "[encoded data removed]",
            "text/plain": [
              "<Figure size 640x480 with 1 Axes>"
            ]
          },
          "metadata": {},
          "output_type": "display_data"
        }
      ],
      "source": [
        "plt.plot(model_hist.history[\"loss\"])"
      ]
    },
    {
      "cell_type": "code",
      "execution_count": null,
      "metadata": {
        "id": "hX-S0ZvF8Hq6"
      },
      "outputs": [],
      "source": []
    },
    {
      "cell_type": "code",
      "execution_count": null,
      "metadata": {
        "id": "2teBa4878XEI"
      },
      "outputs": [],
      "source": []
    },
    {
      "cell_type": "code",
      "execution_count": null,
      "metadata": {
        "id": "43W0ygJj8XA1"
      },
      "outputs": [],
      "source": []
    },
    {
      "cell_type": "code",
      "execution_count": null,
      "metadata": {
        "id": "HkF8DN5a8fWR"
      },
      "outputs": [],
      "source": []
    }
  ],
  "metadata": {
    "accelerator": "GPU",
    "colab": {
      "provenance": [],
      "toc_visible": true
    },
    "kernelspec": {
      "display_name": "Python 3",
      "name": "python3"
    },
    "language_info": {
      "codemirror_mode": {
        "name": "ipython",
        "version": 3
      },
      "file_extension": ".py",
      "mimetype": "text/x-python",
      "name": "python",
      "nbconvert_exporter": "python",
      "pygments_lexer": "ipython3",
      "version": "3.8.15"
    }
  },
  "nbformat": 4,
  "nbformat_minor": 0
}
