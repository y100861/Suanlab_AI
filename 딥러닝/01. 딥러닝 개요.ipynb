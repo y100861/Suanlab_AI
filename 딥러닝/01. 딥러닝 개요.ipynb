{
  "nbformat": 4,
  "nbformat_minor": 0,
  "metadata": {
    "colab": {
      "provenance": []
    },
    "kernelspec": {
      "name": "python3",
      "display_name": "Python 3"
    }
  },
  "cells": [
    {
      "cell_type": "markdown",
      "metadata": {
        "id": "tihP2W2HZkAU"
      },
      "source": [
        "# 딥러닝 개요"
      ]
    },
    {
      "cell_type": "markdown",
      "metadata": {
        "id": "xveZqLn_eBvr"
      },
      "source": [
        "## 딥러닝 타임라인(Deep Learning Timeline)\n",
        "![timeline](http://beamlab.org/images/deep_learning_101/nn_timeline.jpg)\n",
        "<br /><sub>출처: http://beamlab.org/deeplearning/2017/02/23/deep_learning_101_part1.html</sub>\n",
        "\n",
        "## ImageNet Large Scale Visual Recognition Challenges\n",
        "![imagenet](https://kh-kim.gitbooks.io/pytorch-natural-language-understanding/content/assets/intro-imagenet.png)\n",
        "<br /><sub>출처: https://kh-kim.gitbooks.io/pytorch-natural-language-understanding/content/nlp-with-deeplearning/deeplearning.html</sub>"
      ]
    },
    {
      "cell_type": "markdown",
      "metadata": {
        "id": "vRSCBsgxeIHT"
      },
      "source": [
        "## 프레임워크(Framework)\n",
        "\n",
        "![timeline](https://cdn-gcp.marutitech.com/wp-media/2018/03/8f25ea16-top-8-deep-learning-frameworks.png)\n",
        "<sub>출처: https://marutitech.com/top-8-deep-learning-frameworks/</sub>"
      ]
    },
    {
      "cell_type": "markdown",
      "metadata": {
        "id": "K3itSxDbaNiA"
      },
      "source": [
        "## 대표적인 프레임워크\n",
        "* 텐서플로우(TensorFlow 2.x 버전)\n",
        "  + Google, 핵심코드가 C++로 작성\n",
        "  + 직관적인 고수준 API\n",
        "  + 뛰어난 이식성 및 확장성, 즉 다양한 플랫폼으로 확장하여 활용 가능\n",
        "    - Tensorflow-Lite, TensorFlow Extended\n",
        "  + 진입장벽 다소 높음\n",
        "\n",
        "* 케라스(Keras)\n",
        "  + 직관적이고 쉬운 API\n",
        "  + TensorFlow의 백엔드(Backend) 활용\n",
        "  + 동일한 코드로 CPU, GPU에서 실행 가능\n",
        "\n",
        "* 파이토치(PyTorch)\n",
        "  + Facebook\n",
        "  + C/CUDA Backend 사용\n",
        "  + 진입장벽이 낮음. 파이썬 문법과 유사\n",
        "  + GPU 가속연산\n"
      ]
    },
    {
      "cell_type": "markdown",
      "metadata": {
        "id": "LAunTVJZaO90"
      },
      "source": [
        "## PyTorch vs Tensorflow  \n",
        "\n",
        "![timeline](https://blog.exxactcorp.com/wp-content/uploads/2020/01/pasted-image-0-5-.png)\n",
        "<br /><sub>출처: https://blog.exxactcorp.com/pytorch-vs-tensorflow-in-2020-what-you-should-know-about-these-frameworks/</sub>"
      ]
    },
    {
      "cell_type": "markdown",
      "metadata": {
        "id": "fqySyovDeLOs"
      },
      "source": [
        "## 딥러닝의 활용분야\n",
        "\n",
        "![timeline](https://d2h0cx97tjks2p.cloudfront.net/blogs/wp-content/uploads/sites/2/2017/07/applications-of-machine-learning-2.jpg)\n",
        "<br /><sub>출처: https://data-flair.training/blogs/machine-learning-applications/</sub>"
      ]
    },
    {
      "cell_type": "markdown",
      "metadata": {
        "id": "VTI93rzQePwS"
      },
      "source": [
        "## 신경망(Neural Network)\n",
        "- 인공지능 분야에서 쓰이는 알고리즘\n",
        "- '인간의 뇌 구조를 모방'  \n",
        "  뉴런과 뉴런 사이에는 전기신호를 통해 정보를 전달  \n",
        "\n",
        "![neural network](https://miro.medium.com/max/1000/1*3Aktb4kThvYHPLD5vQOzxg.png)\n",
        "\n",
        "- 위 구조를 단순화하여 모델링한 구조  \n",
        "  - 입력(inputs)과 가중치(weights)를 곱한 선형구조(linear)\n",
        "  - 활성화 함수(activation function)를 통한 비선형 구조(non-linear) 표현 가능  \n",
        "\n",
        "![ann](https://miro.medium.com/proxy/0*XVTzs5PHRzX5Vuyc)\n",
        "<br /><sub>출처: https://medium.com/swlh/learning-paradigms-in-neural-networks-30854975aa8d</sub>\n"
      ]
    },
    {
      "cell_type": "markdown",
      "metadata": {
        "id": "udB97yZkbUfV"
      },
      "source": [
        " ## 인공뉴런 vs 인공 신경망\n",
        "\n",
        "![ann](https://www.researchgate.net/profile/JJ_Rodriguez-Andina/publication/326005988/figure/fig6/AS:644222898155527@1530606116889/Graphical-representation-of-a-single-neuron-and-an-artificial-neural-network.png)\n",
        "<br /><sub>출처: https://www.researchgate.net/figure/Graphical-representation-of-a-single-neuron-and-an-artificial-neural-network_fig6_326005988</sub>\n",
        "\n",
        "* 인공 뉴런 (Artificial Neuron)\n",
        "  + **노드**(Node)와 **엣지**(Edge)로 표현\n",
        "    - 하나의 노드안에서 입력(Inputs)와 가중치(Weights)를 곱하고 더하는 선형(Linear)계산\n",
        "    - 활성화 함수(Activation Function) 통과를 모두 포함\n",
        "  + 인공 신경망 (Artificial Neural Network)    \n",
        "    - 여러 개의 인공뉴런들이 모여 연결된 형태\n",
        "    - 뉴런들이 모인 하나의 단위를 층(Layer)이라고 하고,  \n",
        "      여러 층(Layer)으로 이루어질 수 있음\n",
        "    - ex) 입력층(Input Layer), 은닉층(Hidden Layer), 출력층(Output Layer)\n",
        "\n"
      ]
    },
    {
      "cell_type": "markdown",
      "metadata": {
        "id": "7QdAd8OTeVoK"
      },
      "source": [
        "### 완전 연결 계층(Fully-Connected Layer)\n",
        "- **모든 노드들이 서로 연결**된 신경망\n",
        "- Dense Layer라고도 불림\n",
        "- 아래 그림에서  \n",
        "  - 입력 노드 3개\n",
        "  - 은닉층1 노드 4개\n",
        "  - 은닉층2 노드 4개\n",
        "  - 출력층 노드 1개  \n",
        "\n",
        "  총 $3 \\times 4 \\times 4 \\times 1 = 48$개의 선으로 연결  \n",
        "\n",
        "![neural_net](https://cs231n.github.io/assets/nn1/neural_net2.jpeg)\n",
        "<br /><sub>출처: https://cs231n.github.io/convolutional-networks/</sub>\n",
        "\n"
      ]
    },
    {
      "cell_type": "markdown",
      "metadata": {
        "id": "Rj-iEAfCeYPZ"
      },
      "source": [
        "## 신경망의 활용\n",
        "\n",
        "  "
      ]
    },
    {
      "cell_type": "markdown",
      "metadata": {
        "id": "9NasOKzNc0VW"
      },
      "source": [
        "### 회귀(Regression)\n",
        "\n",
        "* 잡음(Noise)을 포함한 학습 데이터로부터 어떤 **<u>규칙을 찾고 연속된 값의 출력을 추정</u>**\n",
        "* 아래의 식을 만족하는 적절한 $a$ (기울기), $b$ ($y$절편)를 찾아야함\n",
        "\n",
        "  $ \\qquad Y = aX + b \\\\ $\n",
        "    - $X$ :$\\quad $입력\n",
        "    - $Y$ :$\\quad $출력\n",
        "    - $a$ :$\\quad $기울기\n",
        "    - $b$ :$\\quad $$y$절편\n",
        "\n",
        "* 회귀 문제 예시\n",
        "  + 나이, 키, 몸무게에 따른 기대수명\n",
        "  + 아파트의 방의 개수, 크기, 주변 상가 등에 따른 아파트 가격\n",
        "\n",
        "![reg1](https://bioinfo.iric.ca/wpbioinfo/wp-content/uploads/2017/03/example_dataset-600x600.png)\n",
        "\n",
        "![reg2](https://bioinfo.iric.ca/wpbioinfo/wp-content/uploads/2017/03/lr_example-1-600x600.png)\n",
        "<br /><sub>출처: https://bioinfo.iric.ca/introduction-to-linear-regression/</sub>\n"
      ]
    },
    {
      "cell_type": "markdown",
      "metadata": {
        "id": "UWcgY4Flc15n"
      },
      "source": [
        "### 분류(Classification)\n",
        "\n",
        "* 입력값에 따라 특정 범주(category)로 구분하는 문제  \n",
        "  **<u>분류 곡선(직선)</u>**을 찾아야 함\n",
        "\n",
        "* 범주의 개수에 따라서 이진 분류(Binary Classification), 로지스틱 회귀(Logistic Regression), 선형회귀와 비슷하지만, **범주형 데이터**를 분류하는 방향으로 선을 그음\n",
        "  + 면접점수, 실기점수, 필기점수에 따른 시험 합격 여부  \n",
        "\n",
        "![classification](https://cdn-images-1.medium.com/max/788/1*I4zVi0P_jUaq2FmYvMQg1Q.jpeg)\n",
        "<br /><sub>출처: https://quantumcomputingtech.blogspot.com/2019/05/machine-learning-classification-methods.html</sub>\n",
        "\n",
        "* 다중 분류(Multi-Class Classification)\n",
        "  + 꽃잎 모양, 색깔에 따른 꽃의 종 분류\n",
        "\n",
        "![iris](https://miro.medium.com/max/1506/1*JAXmOAImcf683aXaBDPPVg.jpeg)\n",
        "<br /><sub>출처: https://towardsdatascience.com/multi-class-classification-one-vs-all-one-vs-one-94daed32a87b</sub>"
      ]
    },
    {
      "cell_type": "code",
      "metadata": {
        "id": "0eaJu_zhwDMU"
      },
      "source": [],
      "execution_count": null,
      "outputs": []
    }
  ]
}
