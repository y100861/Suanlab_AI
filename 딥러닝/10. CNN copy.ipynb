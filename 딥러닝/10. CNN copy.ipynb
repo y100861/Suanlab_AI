{
  "nbformat": 4,
  "nbformat_minor": 0,
  "metadata": {
    "colab": {
      "provenance": []
    },
    "kernelspec": {
      "name": "python3",
      "display_name": "Python 3"
    }
  },
  "cells": [
    {
      "cell_type": "markdown",
      "metadata": {
        "id": "cNw3DLR9NqOt"
      },
      "source": [
        "# 합성곱 신경망(Convolutional Neural Networks, CNNs)\n",
        "\n",
        "- 이미지 인식, 음성 인식 등에 자주 사용되는데,  \n",
        "  특히, 이미지 인식 분야에서 거의 모든 딥러닝 기술에 사용\n",
        "\n",
        "<br>\n",
        "\n",
        "## 컨볼루션 신경망의 등장\n",
        "- 1989년 얀 르쿤(Yann LeCun) 교수의 논문에서 발표\n",
        "\n",
        "  - 필기체 인식에서 의미가 있었지만 범용화하는데에는 무리\n",
        "\n",
        "- 1998년, \"Gradient-Based Learning Applied to Document Recognition\"이라는 논문에서 LeNet-5 제시\n",
        "\n",
        "- 합성곱 층(convolution layer), 풀링 층(pooling layer) 소개\n",
        "  <br>\n",
        "\n",
        "  <img src=\"https://miro.medium.com/max/4308/1*1TI1aGBZ4dybR6__DI9dzA.png\">\n",
        "  \n",
        "  <center>[LeNet-5 구조]</center>\n",
        "\n",
        "  <sub>출처: https://medium.com/@pechyonkin/key-deep-learning-architectures-lenet-5-6fc3c59e6f4</sub>"
      ]
    },
    {
      "cell_type": "markdown",
      "metadata": {
        "id": "jEwbDi16NtE0"
      },
      "source": [
        "\n",
        "## 완전연결계층과의 차이\n",
        "- 완전연결계층(Fully-Connected Layer)은 이미지와 같은 데이터의 형상(3차원)을 무시함  \n",
        "\n",
        "- 모든 입력데이터를 동등하게 취급  \n",
        "  즉, **데이터의 특징을 잃어버리게 됨**\n",
        "\n",
        "- 컨볼루션층(convolution layer)은 <u>**이미지 픽셀 사이의 관계를 고려**</u>\n",
        "\n",
        "- 완전연결계층은 공간정보를 손실하지만, 컨볼루션층은 공간정보를 유지  \n",
        "  - 이미지와 같은 2차원(흑백) 또는 3차원(컬러)의 형상을 유지\n",
        "\n",
        "  - 공간정보를 유지하기 때문에 완전연결계층에 비해 적은 수의 파라미터를 요구\n"
      ]
    },
    {
      "cell_type": "markdown",
      "metadata": {
        "id": "Y46evOQHNukF"
      },
      "source": [
        "## 컨볼루션 신경망 구조 예시\n",
        "\n",
        "<img src=\"https://www.oreilly.com/library/view/neural-network-projects/9781789138900/assets/c38754ca-f2ea-425a-b7a6-1fe0f2f5074e.png\" width=\"600\">\n",
        "\n",
        "<sub>출처: https://www.oreilly.com/library/view/neural-network-projects/9781789138900/8e87ad66-6de3-4275-81a4-62b54436bf16.xhtml</sub>\n",
        "\n"
      ]
    },
    {
      "cell_type": "markdown",
      "metadata": {
        "id": "Wtb8UWyTNxp_"
      },
      "source": [
        "## 합성곱 연산\n",
        "- 필터(filter) 연산\n",
        "  - 입력 데이터에 필터를 통한 어떠한 연산을 진행\n",
        "  \n",
        "  - **필터에 대응하는 원소끼리 곱하고, 그 합을 구함**\n",
        "\n",
        "  - 연산이 완료된 결과 데이터를 **특징 맵(feature map)**이라 부름\n",
        "\n",
        "- 필터(filter)\n",
        "  - 커널(kernel)이라고도 칭함\n",
        "  \n",
        "  - 흔히 사진 어플에서 사용하는 '이미지 필터'와 비슷한 개념\n",
        "\n",
        "  - 필터의 사이즈는 \"거의 항상 홀수\"\n",
        "    - 짝수이면 패딩이 비대칭이 되어버림\n",
        "  \n",
        "    - 왼쪽, 오른쪽을 다르게 주어야함\n",
        "  \n",
        "    - 중심위치가 존재, 즉 구별된 하나의 픽셀(중심 픽셀)이 존재\n",
        "\n",
        "  - 필터의 학습 파라미터 개수는 입력 데이터의 크기와 상관없이 일정  \n",
        "    따라서, 과적합을 방지할 수 있음\n",
        "\n",
        "  <br>\n",
        "  <img src=\"http://deeplearning.net/software/theano_versions/dev/_images/numerical_no_padding_no_strides.gif\">\n",
        "\n",
        "  <sub>출처: http://deeplearning.net/software/theano_versions/dev/tutorial/conv_arithmetic.html</sub>\n",
        "\n",
        "\n",
        "- 연산 시각화\n",
        "  <img src=\"https://www.researchgate.net/profile/Ihab_S_Mohamed/publication/324165524/figure/fig3/AS:611103423860736@1522709818959/An-example-of-convolution-operation-in-2D-2.png\" width=\"500\">\n",
        "\n",
        "  <sub>출처: https://www.researchgate.net/figure/An-example-of-convolution-operation-in-2D-2_fig3_324165524</sub>\n",
        "\n",
        "\n",
        "- 일반적으로, 합성곱 연산을 한 후의 데이터 사이즈는  \n",
        "  ### $\\quad (n-f+1) \\times (n-f+1)$\n",
        "    $n$: 입력 데이터의 크기  \n",
        "    $f$: 필터(커널)의 크기\n",
        "\n",
        "\n",
        "  <img src=\"https://miro.medium.com/max/1400/1*Fw-ehcNBR9byHtho-Rxbtw.gif\" width=\"400\">\n",
        "\n",
        "  <sub>출처: https://towardsdatascience.com/intuitively-understanding-convolutions-for-deep-learning-1f6f42faee1</sub>\n",
        "  \n",
        "  위 예에서 입력 데이터 크기($n$)는 5, 필터의 크기($k$)는 3이므로  \n",
        "  출력 데이터의 크기는 $(5 - 3 + 1) = 3$\n"
      ]
    },
    {
      "cell_type": "markdown",
      "metadata": {
        "id": "5-ekDsJwN2Y-"
      },
      "source": [
        "## 패딩(padding)과 스트라이드(stride)\n",
        "- 필터(커널) 사이즈과 함께 **입력 이미지와 출력 이미지의 사이즈를 결정**하기 위해 사용\n",
        "\n",
        "- 사용자가 결정할 수 있음\n"
      ]
    },
    {
      "cell_type": "markdown",
      "metadata": {
        "id": "alV1bgcjN4Kc"
      },
      "source": [
        "\n",
        "### 패딩\n",
        "- 입력 데이터의 주변을 특정 값으로 채우는 기법\n",
        "  - 주로 0으로 많이 채움\n",
        "\n",
        "  <img src=\"http://deeplearning.net/software/theano_versions/dev/_images/arbitrary_padding_no_strides.gif\" width=\"300\">\n",
        "\n",
        "- 출력 데이터의 크기\n",
        "  ### $\\quad (n+2p-f+1) \\times (n+2p-f+1)$\n",
        "\n",
        "  위 그림에서, 입력 데이터의 크기($n$)는 5, 필터의 크기($f$)는 4, 패딩값($p$)은 2이므로    \n",
        "  출력 데이터의 크기는 ($5 + 2\\times 2 - 4 + 1) = 6$\n",
        "\n",
        "### 'valid' 와 'same'\n",
        "- 'valid'\n",
        "  - 패딩을 주지 않음\n",
        "  - padding=0 (0으로 채워진 테두리가 아니라 패딩을 주지 않는다는 의미)\n",
        "\n",
        "- 'same'\n",
        "  - 패딩을 주어 입력 이미지의 크기와 연산 후의 이미지 크기를 같게함\n",
        "\n",
        "  - 만약, 필터(커널)의 크기가 $k$ 이면,  \n",
        "    패딩의 크기는 $p = \\frac{k-1}{2}$ (단, <u>stride=1)</u>"
      ]
    },
    {
      "cell_type": "markdown",
      "metadata": {
        "id": "zlZ7zG6ON85J"
      },
      "source": [
        "\n",
        "\n",
        "### 스트라이드\n",
        "- 필터를 적용하는 간격을 의미\n",
        "\n",
        "- 아래는 그림의 간격 2\n",
        "\n",
        "  <img src=\"http://deeplearning.net/software/theano_versions/dev/_images/no_padding_strides.gif\">\n"
      ]
    },
    {
      "cell_type": "markdown",
      "metadata": {
        "id": "LPcsND-0OCNm"
      },
      "source": [
        "## 출력 데이터의 크기\n",
        "\n",
        "## $\\qquad OH = \\frac{H + 2P - FH}{S} + 1 $ \n",
        "## $\\qquad OW = \\frac{W + 2P - FW}{S} + 1 $ \n",
        "\n",
        "- 입력 크기 : $(H, W)$\n",
        "\n",
        "- 필터 크기 : $(FH, FW)$\n",
        "\n",
        "- 출력 크기 : $(OH, OW)$\n",
        "\n",
        "- 패딩, 스트라이드 : $P, S$\n",
        "\n",
        "- (주의) \n",
        "  - 위 식의 값에서 $\\frac{H + 2P - FH}{S}$ 또는 $\\frac{W + 2P - FW}{S}$가 정수로 나누어 떨어지는 값이어야 함\n",
        "  - 만약, 정수로 나누어 떨어지지 않으면  \n",
        "    패딩, 스트라이드값을 조정하여 정수로 나누어 떨어지게 해야함\n"
      ]
    },
    {
      "cell_type": "markdown",
      "metadata": {
        "id": "1x4UoMbF8jJ9"
      },
      "source": [
        "## 풀링(Pooling)\n",
        "\n",
        "- 필터(커널) 사이즈 내에서 특정 값을 추출하는 과정"
      ]
    },
    {
      "cell_type": "markdown",
      "metadata": {
        "id": "lDiaO3XF8oC_"
      },
      "source": [
        "### 맥스 풀링(Max Pooling)\n",
        "- 가장 많이 사용되는 방법\n",
        "\n",
        "- 출력 데이터의 사이즈 계산은 컨볼루션 연산과 동일\n",
        "## $\\quad OH = \\frac{H + 2P - FH}{S} + 1 $ \n",
        "## $\\quad OW = \\frac{W + 2P - FW}{S} + 1 $ \n",
        "\n",
        "- 일반적으로 stride=2, kernel_size=2 를 통해  \n",
        "  **특징맵의 크기를 <u>절반으로 줄이는 역할</u>**\n",
        "\n",
        "- 모델이 물체의 주요한 특징을 학습할 수 있도록 해주며,  \n",
        "  컨볼루션 신경망이 이동 불변성 특성을 가지게 해줌\n",
        "  - 예를 들어, 아래의 그림에서 초록색 사각형 안에 있는  \n",
        "    2와 8의 위치를 바꾼다해도 맥스 풀링 연산은 8을 추출\n",
        "\n",
        "- 모델의 파라미터 개수를 줄여주고, 연산 속도를 빠르게 해줌\n",
        "\n",
        "  <br>\n",
        "\n",
        "  <img src=\"https://cs231n.github.io/assets/cnn/maxpool.jpeg\" width=\"600\">\n",
        "\n",
        "  <sub>출처: https://cs231n.github.io/convolutional-networks/</sub>"
      ]
    },
    {
      "cell_type": "markdown",
      "metadata": {
        "id": "4czHpHrW8qyb"
      },
      "source": [
        "### 평균 풀링(Avg Pooling)\n",
        "\n",
        "- 필터 내의 있는 픽셀값의 평균을 구하는 과정\n",
        "\n",
        "- 과거에 많이 사용, 요즘은 잘 사용되지 않는다.\n",
        "\n",
        "- 맥스풀링과 마찬가지로 stride=2, kernel_size=2 를 통해  \n",
        "  특징 맵의 사이즈를 줄이는 역할\n",
        "\n",
        "  <img src=\"https://www.researchgate.net/profile/Juan_Pedro_Dominguez-Morales/publication/329885401/figure/fig21/AS:707709083062277@1545742402308/Average-pooling-example.png\" width=\"600\">\n",
        "\n",
        "  <sub>출처: https://www.researchgate.net/figure/Average-pooling-example_fig21_329885401</sub>"
      ]
    },
    {
      "cell_type": "markdown",
      "metadata": {
        "id": "YkUkaiTKOpQa"
      },
      "source": [
        "## 합성곱 연산의 의미"
      ]
    },
    {
      "cell_type": "markdown",
      "metadata": {
        "id": "3vqpxGe1Oqqt"
      },
      "source": [
        "## 2차원 이미지에 대한 필터 연산 예시\n",
        "  - 가장 자리 검출(Edge-Detection)\n",
        "\n",
        "  - 소벨 필터(Sobel Filter)\n",
        "\n",
        "    - Horizontal : 가로 방향의 미분을 구하는 필터 역할\n",
        "\n",
        "    - Vertical : 세로 방향의 미분을 구하는 필터 역할  \n",
        "\n",
        "  <img src=\"https://encrypted-tbn0.gstatic.com/images?q=tbn%3AANd9GcT_ZRkuiCkv0ZEHFiyCp-7Y5bCL0liaYSQ4mg&usqp=CAU\" width=\"350\">\n",
        "\n",
        "  <sub>출처: https://www.cloras.com/blog/image-recognition/</sub>\n"
      ]
    },
    {
      "cell_type": "markdown",
      "metadata": {
        "id": "fOZmlZVAOr7w"
      },
      "source": [
        "### modules import"
      ]
    },
    {
      "cell_type": "code",
      "metadata": {
        "id": "gzGcWRXvN9GP"
      },
      "source": [],
      "execution_count": null,
      "outputs": []
    },
    {
      "cell_type": "markdown",
      "metadata": {
        "id": "pU4dVjXHOuSY"
      },
      "source": [
        "\n",
        "### util functions"
      ]
    },
    {
      "cell_type": "code",
      "metadata": {
        "id": "5c8yNNHoOtA7"
      },
      "source": [],
      "execution_count": null,
      "outputs": []
    },
    {
      "cell_type": "markdown",
      "metadata": {
        "id": "7qJWb_uiOxO2"
      },
      "source": [
        "### 이미지 확인\n",
        "- 예시이므로 정사각형 사이즈로 진행"
      ]
    },
    {
      "cell_type": "code",
      "metadata": {
        "id": "X8R_152COvrp"
      },
      "source": [],
      "execution_count": null,
      "outputs": []
    },
    {
      "cell_type": "markdown",
      "metadata": {
        "id": "m-pvz74mO02K"
      },
      "source": [
        "### 필터연산 적용"
      ]
    },
    {
      "cell_type": "code",
      "metadata": {
        "id": "9A3fvhiUOyv6"
      },
      "source": [],
      "execution_count": null,
      "outputs": []
    },
    {
      "cell_type": "markdown",
      "metadata": {
        "id": "e8GInZjQO4WQ"
      },
      "source": [
        "### 이미지 필터를 적용한 최종 결과"
      ]
    },
    {
      "cell_type": "code",
      "metadata": {
        "id": "w7MVOMG8O2JN"
      },
      "source": [],
      "execution_count": null,
      "outputs": []
    },
    {
      "cell_type": "markdown",
      "metadata": {
        "id": "hwmDwRuWO60O"
      },
      "source": [
        "## 3차원 데이터의 합성곱 연산\n",
        "- **이미지는 3차원으로 구성**\n",
        "  - (가로, 세로, 채널 수)\n",
        "  - 채널 : RGB \n",
        "\n",
        "- 색상값의 정도에 따라 color색 결정\n",
        "\n",
        "  <img src=\"https://www.projectorcentral.com/images/articles/RGB-Explained-600.jpg\">\n",
        "\n",
        "  <sub>출처: https://www.projectorcentral.com/All-About-Bit-Depth.htm?page=What-Bit-Depth-Looks-Like</sub>\n",
        "\n",
        "### 아래의 이미지 확인은 참고사항"
      ]
    },
    {
      "cell_type": "code",
      "metadata": {
        "id": "gCS3t8w9O5jF"
      },
      "source": [],
      "execution_count": null,
      "outputs": []
    },
    {
      "cell_type": "code",
      "metadata": {
        "id": "EbLk3jdYO8te"
      },
      "source": [],
      "execution_count": null,
      "outputs": []
    },
    {
      "cell_type": "code",
      "metadata": {
        "id": "y6bnX6hCO-OW"
      },
      "source": [],
      "execution_count": null,
      "outputs": []
    },
    {
      "cell_type": "code",
      "metadata": {
        "id": "wGCEcNfBO_Ji"
      },
      "source": [],
      "execution_count": null,
      "outputs": []
    },
    {
      "cell_type": "code",
      "metadata": {
        "id": "as2RBHRaPAWf"
      },
      "source": [],
      "execution_count": null,
      "outputs": []
    },
    {
      "cell_type": "code",
      "metadata": {
        "id": "X_Rp4oHNPGYT"
      },
      "source": [],
      "execution_count": null,
      "outputs": []
    },
    {
      "cell_type": "markdown",
      "metadata": {
        "id": "UgT1V4z11xU8"
      },
      "source": [
        "### 연산 과정\n",
        "\n",
        "- 각 채널마다 컨볼루션 연산을 적용\n",
        "  - 3채널을 모두 합쳐서 '하나의 필터'라고 칭함  \n",
        "    \n",
        "  <img src=\"https://miro.medium.com/max/2000/1*8dx6nxpUh2JqvYWPadTwMQ.gif\" width=\"600\">\n",
        "\n",
        "<br>\n",
        "\n",
        "- 각각의 결과를 더함  \n",
        "  \n",
        "  <img src=\"https://miro.medium.com/max/2000/1*CYB2dyR3EhFs1xNLK8ewiA.gif\" width=\"600\">\n",
        "\n",
        "<br>\n",
        "\n",
        "- 더한 결과에 편향을 더함  \n",
        "  <img src=\"https://miro.medium.com/max/588/1*RYYucIh3U-YFxrIkyQKzRw.gif\" width=\"300\">\n",
        "\n",
        "  <sub>출처: https://towardsdatascience.com/intuitively-understanding-convolutions-for-deep-learning-1f6f42faee1</sub>\n",
        "\n"
      ]
    },
    {
      "cell_type": "markdown",
      "metadata": {
        "id": "kjbSd497PJWX"
      },
      "source": [
        "### modules import"
      ]
    },
    {
      "cell_type": "code",
      "metadata": {
        "id": "G4d1ATsOPHMn"
      },
      "source": [],
      "execution_count": null,
      "outputs": []
    },
    {
      "cell_type": "markdown",
      "metadata": {
        "id": "Z9ksTJvNPL1l"
      },
      "source": [
        "### util functions"
      ]
    },
    {
      "cell_type": "code",
      "metadata": {
        "id": "orb2XxYXPNQq"
      },
      "source": [],
      "execution_count": null,
      "outputs": []
    },
    {
      "cell_type": "markdown",
      "metadata": {
        "id": "IBLlQs0NPN4a"
      },
      "source": [
        "### 이미지 확인"
      ]
    },
    {
      "cell_type": "code",
      "metadata": {
        "id": "epG91ckFPOtM"
      },
      "source": [],
      "execution_count": null,
      "outputs": []
    },
    {
      "cell_type": "markdown",
      "metadata": {
        "id": "yGkAlm9p00vt"
      },
      "source": [
        "### 필터연산 적용\n",
        "- 3x3 크기의 3채널 필터 5개\n",
        "\n",
        "- (5, 3, 3, 3) ----> (5개, 3채널, 세로, 가로)"
      ]
    },
    {
      "cell_type": "code",
      "metadata": {
        "id": "nLdFrIoYPPcw"
      },
      "source": [],
      "execution_count": null,
      "outputs": []
    },
    {
      "cell_type": "code",
      "metadata": {
        "id": "OSuvQefrPPrU"
      },
      "source": [],
      "execution_count": null,
      "outputs": []
    },
    {
      "cell_type": "code",
      "metadata": {
        "id": "NlYNoKTnPPwy"
      },
      "source": [],
      "execution_count": null,
      "outputs": []
    },
    {
      "cell_type": "code",
      "metadata": {
        "id": "7irI2RZzPPmY"
      },
      "source": [],
      "execution_count": null,
      "outputs": []
    },
    {
      "cell_type": "code",
      "metadata": {
        "id": "dZbJgJy8PPkn"
      },
      "source": [],
      "execution_count": null,
      "outputs": []
    },
    {
      "cell_type": "code",
      "metadata": {
        "id": "XM0wWMK8PPib"
      },
      "source": [],
      "execution_count": null,
      "outputs": []
    },
    {
      "cell_type": "code",
      "metadata": {
        "id": "Y00KwBz_PPaI"
      },
      "source": [],
      "execution_count": null,
      "outputs": []
    },
    {
      "cell_type": "code",
      "metadata": {
        "id": "j49nc_T81B8W"
      },
      "source": [],
      "execution_count": null,
      "outputs": []
    },
    {
      "cell_type": "markdown",
      "metadata": {
        "id": "mr7Dvk9F1JnN"
      },
      "source": [
        "### 필터연산을 적용한 최종 결과"
      ]
    },
    {
      "cell_type": "code",
      "metadata": {
        "id": "0vYkh-Ou1CVh"
      },
      "source": [],
      "execution_count": null,
      "outputs": []
    },
    {
      "cell_type": "markdown",
      "metadata": {
        "id": "sExDd88N8Bly"
      },
      "source": [
        "### 전체 과정 한번에 보기"
      ]
    },
    {
      "cell_type": "code",
      "metadata": {
        "id": "L1u_inNg1L3m"
      },
      "source": [],
      "execution_count": null,
      "outputs": []
    },
    {
      "cell_type": "code",
      "metadata": {
        "id": "o0_IA_xr8Hxx"
      },
      "source": [],
      "execution_count": null,
      "outputs": []
    },
    {
      "cell_type": "markdown",
      "metadata": {
        "id": "nV7s_acEPRXR"
      },
      "source": [
        "# 합성곱 신경망 구현\n",
        "- 참고: 밑바닥부터 시작하는 딥러닝1"
      ]
    },
    {
      "cell_type": "markdown",
      "metadata": {
        "id": "Jewj-wpPPSgr"
      },
      "source": [
        "## 합성곱 층(Convolution Layer)"
      ]
    },
    {
      "cell_type": "code",
      "metadata": {
        "id": "nVnnO0ZE7_70"
      },
      "source": [],
      "execution_count": null,
      "outputs": []
    },
    {
      "cell_type": "code",
      "metadata": {
        "id": "adcMx0mhPRhw"
      },
      "source": [],
      "execution_count": null,
      "outputs": []
    },
    {
      "cell_type": "markdown",
      "metadata": {
        "id": "AHChQdhF4CjJ"
      },
      "source": [
        "### 컨볼루션 레이어 테스트"
      ]
    },
    {
      "cell_type": "code",
      "metadata": {
        "id": "EcnJTXMfHEwX"
      },
      "source": [],
      "execution_count": null,
      "outputs": []
    },
    {
      "cell_type": "code",
      "metadata": {
        "id": "V6mYcwl0PTc6"
      },
      "source": [],
      "execution_count": null,
      "outputs": []
    },
    {
      "cell_type": "code",
      "metadata": {
        "id": "26taRfWrPTaE"
      },
      "source": [],
      "execution_count": null,
      "outputs": []
    },
    {
      "cell_type": "code",
      "metadata": {
        "id": "9abfGI9m4Gey"
      },
      "source": [],
      "execution_count": null,
      "outputs": []
    },
    {
      "cell_type": "code",
      "metadata": {
        "id": "dA5hXAmH4Gik"
      },
      "source": [],
      "execution_count": null,
      "outputs": []
    },
    {
      "cell_type": "code",
      "metadata": {
        "id": "sH-f_PpLFGk4"
      },
      "source": [],
      "execution_count": null,
      "outputs": []
    },
    {
      "cell_type": "code",
      "metadata": {
        "id": "PHj8Z15WKxh_"
      },
      "source": [],
      "execution_count": null,
      "outputs": []
    },
    {
      "cell_type": "code",
      "metadata": {
        "id": "kBlItHGkKxXR"
      },
      "source": [],
      "execution_count": null,
      "outputs": []
    },
    {
      "cell_type": "code",
      "metadata": {
        "id": "Og5oWWVLMwZk"
      },
      "source": [],
      "execution_count": null,
      "outputs": []
    },
    {
      "cell_type": "code",
      "metadata": {
        "id": "c8py-sNOM3wp"
      },
      "source": [],
      "execution_count": null,
      "outputs": []
    },
    {
      "cell_type": "markdown",
      "metadata": {
        "id": "2B3Dvdm5FXeB"
      },
      "source": [
        "### 동일한 이미지 여러 장 테스트 (배치 처리)"
      ]
    },
    {
      "cell_type": "code",
      "metadata": {
        "id": "JZ1gV7rd4G7A"
      },
      "source": [],
      "execution_count": null,
      "outputs": []
    },
    {
      "cell_type": "code",
      "metadata": {
        "id": "WDG2-FzwHiZR"
      },
      "source": [],
      "execution_count": null,
      "outputs": []
    },
    {
      "cell_type": "code",
      "metadata": {
        "id": "2-A38BHiIMP5"
      },
      "source": [],
      "execution_count": null,
      "outputs": []
    },
    {
      "cell_type": "code",
      "metadata": {
        "id": "OARAxV6aIK9p"
      },
      "source": [],
      "execution_count": null,
      "outputs": []
    },
    {
      "cell_type": "code",
      "metadata": {
        "id": "yMPQnKCT4G99"
      },
      "source": [],
      "execution_count": null,
      "outputs": []
    },
    {
      "cell_type": "code",
      "metadata": {
        "id": "9bx_-fs_4HEd"
      },
      "source": [],
      "execution_count": null,
      "outputs": []
    },
    {
      "cell_type": "markdown",
      "metadata": {
        "id": "HTF52uTfQh2Q"
      },
      "source": [
        "### 동일한 이미지 배치처리(color)"
      ]
    },
    {
      "cell_type": "code",
      "metadata": {
        "id": "xfWC4DXDQkK3"
      },
      "source": [],
      "execution_count": null,
      "outputs": []
    },
    {
      "cell_type": "code",
      "metadata": {
        "id": "ZMi74BnqQvql"
      },
      "source": [],
      "execution_count": null,
      "outputs": []
    },
    {
      "cell_type": "code",
      "metadata": {
        "id": "d-5Dh-RT4Gr3"
      },
      "source": [],
      "execution_count": null,
      "outputs": []
    },
    {
      "cell_type": "code",
      "metadata": {
        "id": "MwjWxaOZ4GoY"
      },
      "source": [],
      "execution_count": null,
      "outputs": []
    },
    {
      "cell_type": "markdown",
      "metadata": {
        "id": "wLi0IkHuPUp-"
      },
      "source": [
        "## 풀링 층(Pooling Layer)"
      ]
    },
    {
      "cell_type": "code",
      "metadata": {
        "id": "BA0TTYgcPU5L"
      },
      "source": [],
      "execution_count": null,
      "outputs": []
    },
    {
      "cell_type": "markdown",
      "metadata": {
        "id": "BzLkTaxmFgQ-"
      },
      "source": [
        "### 풀링 레이어 테스트\n",
        "- 2차원 이미지\n",
        "  - (Height, Width, 1)"
      ]
    },
    {
      "cell_type": "code",
      "metadata": {
        "id": "4BVtjhdHPXKr"
      },
      "source": [],
      "execution_count": null,
      "outputs": []
    },
    {
      "cell_type": "code",
      "metadata": {
        "id": "JE7fBvkCPXIH"
      },
      "source": [],
      "execution_count": null,
      "outputs": []
    },
    {
      "cell_type": "code",
      "metadata": {
        "id": "MvGYTLB-GAaq"
      },
      "source": [],
      "execution_count": null,
      "outputs": []
    },
    {
      "cell_type": "code",
      "metadata": {
        "id": "_hCstKcYGLPW"
      },
      "source": [],
      "execution_count": null,
      "outputs": []
    },
    {
      "cell_type": "code",
      "metadata": {
        "id": "b6gZVniPGUQf"
      },
      "source": [],
      "execution_count": null,
      "outputs": []
    },
    {
      "cell_type": "code",
      "metadata": {
        "id": "J4781JOlGYSb"
      },
      "source": [],
      "execution_count": null,
      "outputs": []
    },
    {
      "cell_type": "code",
      "metadata": {
        "id": "RsIuLQLaG27g"
      },
      "source": [],
      "execution_count": null,
      "outputs": []
    },
    {
      "cell_type": "code",
      "metadata": {
        "id": "y9LLTl5FG6k2"
      },
      "source": [],
      "execution_count": null,
      "outputs": []
    },
    {
      "cell_type": "markdown",
      "metadata": {
        "id": "AwXEYt4PTXAi"
      },
      "source": [
        "### 동일한 이미지 배치처리\n",
        "- Color Image\n",
        "\n",
        "- conv --> maxpooling --> conv --> maxpooling\n",
        "\n",
        "- 시각화 과정\n",
        "  - 5번째 이미지\n",
        "  - [2, 5, 9] 필터를 통해 확인"
      ]
    },
    {
      "cell_type": "code",
      "metadata": {
        "id": "upj2BLWHOyGI"
      },
      "source": [],
      "execution_count": null,
      "outputs": []
    },
    {
      "cell_type": "code",
      "metadata": {
        "id": "P9xWmDqiTeSj"
      },
      "source": [],
      "execution_count": null,
      "outputs": []
    },
    {
      "cell_type": "code",
      "metadata": {
        "id": "c9ArRj7FTecC"
      },
      "source": [],
      "execution_count": null,
      "outputs": []
    },
    {
      "cell_type": "code",
      "metadata": {
        "id": "ENK8tavZTeZY"
      },
      "source": [],
      "execution_count": null,
      "outputs": []
    },
    {
      "cell_type": "code",
      "metadata": {
        "id": "XNp3FfBzU1Vc"
      },
      "source": [],
      "execution_count": null,
      "outputs": []
    },
    {
      "cell_type": "code",
      "metadata": {
        "id": "w_BmpMBFUw07"
      },
      "source": [],
      "execution_count": null,
      "outputs": []
    },
    {
      "cell_type": "code",
      "metadata": {
        "id": "dzsjQ6RPUp-y"
      },
      "source": [],
      "execution_count": null,
      "outputs": []
    },
    {
      "cell_type": "code",
      "metadata": {
        "id": "50gFmAAnTeXF"
      },
      "source": [],
      "execution_count": null,
      "outputs": []
    },
    {
      "cell_type": "code",
      "metadata": {
        "id": "I_mQSILYTeNA"
      },
      "source": [],
      "execution_count": null,
      "outputs": []
    },
    {
      "cell_type": "code",
      "metadata": {
        "id": "g5DO5txtUe0h"
      },
      "source": [],
      "execution_count": null,
      "outputs": []
    },
    {
      "cell_type": "code",
      "metadata": {
        "id": "8x95pRDmUexv"
      },
      "source": [],
      "execution_count": null,
      "outputs": []
    },
    {
      "cell_type": "code",
      "metadata": {
        "id": "odJ8gjz8Qu4p"
      },
      "source": [],
      "execution_count": null,
      "outputs": []
    },
    {
      "cell_type": "markdown",
      "metadata": {
        "id": "NqRxcG4NeLVZ"
      },
      "source": [
        "# 대표적인 CNN 모델 소개"
      ]
    },
    {
      "cell_type": "markdown",
      "metadata": {
        "id": "loGDkBaxd9O0"
      },
      "source": [
        "## LeNet - 5\n",
        "\n",
        "<img src=\"https://miro.medium.com/max/4308/1*1TI1aGBZ4dybR6__DI9dzA.png\">\n",
        "  \n",
        "  <center>[LeNet-5 구조]</center>\n",
        "\n",
        "  <sub>출처: https://medium.com/@pechyonkin/key-deep-learning-architectures-lenet-5-6fc3c59e6f4</sub>"
      ]
    },
    {
      "cell_type": "markdown",
      "metadata": {
        "id": "SBSS3kYSeBNA"
      },
      "source": [
        "## AlexNet\n",
        "\n",
        "- 활성화 함수로 **ReLU** 사용\n",
        "\n",
        "- 국소적 정규화(Local Response normalization, LRN) 실시하는 계층 사용\n",
        "\n",
        "- 드롭아웃\n",
        "\n",
        "  <img src=\"https://miro.medium.com/proxy/1*qyc21qM0oxWEuRaj-XJKcw.png\" width=\"800\">\n",
        "\n",
        "  <center>[AlexNet 구조]</center>\n",
        "\n",
        "  <sub>출처: http://www.cs.toronto.edu/~hinton/absps/imagenet.pdf</sub>"
      ]
    },
    {
      "cell_type": "markdown",
      "metadata": {
        "id": "MTxvT4A4d_AF"
      },
      "source": [
        "## VGG - 16\n",
        "\n",
        "- 모든 컨볼루션 레이어에서의 필터(커널) 사이즈를 **3x3**으로 설정\n",
        "\n",
        "- 2x2 MaxPooling\n",
        "\n",
        "- 필터의 개수는 Conv Block을 지나가면서 2배씩 증가  \n",
        "  32 -> 64 -> 128\n",
        "\n",
        "  <br>\n",
        "\n",
        "  <img src=\"https://www.researchgate.net/profile/Jose_Cano31/publication/327070011/figure/fig1/AS:660549306159105@1534498635256/VGG-16-neural-network-architecture.png\" width=\"800\">\n",
        "\n",
        "  <center>[VGG-16 구조]</center>\n",
        "\n",
        "  <sub>출처: Very Deep Convolutional Networks for Large-Scale Image Recognition</sub>"
      ]
    },
    {
      "cell_type": "markdown",
      "metadata": {
        "id": "J5LHFftnRnF9"
      },
      "source": [
        "# CNN 학습 구현 - MNIST"
      ]
    },
    {
      "cell_type": "markdown",
      "metadata": {
        "id": "wBpcHq3Kbwb3"
      },
      "source": [
        "## modules import"
      ]
    },
    {
      "cell_type": "code",
      "metadata": {
        "id": "vk3XRm3pT55V"
      },
      "source": [],
      "execution_count": null,
      "outputs": []
    },
    {
      "cell_type": "markdown",
      "metadata": {
        "id": "HWb-ijjedu0c"
      },
      "source": [
        "## Util Functions"
      ]
    },
    {
      "cell_type": "code",
      "metadata": {
        "id": "CjcxUXFwdpA6"
      },
      "source": [],
      "execution_count": null,
      "outputs": []
    },
    {
      "cell_type": "markdown",
      "metadata": {
        "id": "--aPMRnhXbai"
      },
      "source": [
        "## Util Classes"
      ]
    },
    {
      "cell_type": "code",
      "metadata": {
        "id": "s5lPN18RXc2H"
      },
      "source": [],
      "execution_count": null,
      "outputs": []
    },
    {
      "cell_type": "code",
      "metadata": {
        "id": "IQszDPAJK-hl"
      },
      "source": [],
      "execution_count": null,
      "outputs": []
    },
    {
      "cell_type": "markdown",
      "metadata": {
        "id": "Jv7opjoBhIrn"
      },
      "source": [
        "## 데이터 로드"
      ]
    },
    {
      "cell_type": "code",
      "metadata": {
        "id": "o1xwLEKAhH9K"
      },
      "source": [],
      "execution_count": null,
      "outputs": []
    },
    {
      "cell_type": "code",
      "metadata": {
        "id": "Kava7wCZhNtg"
      },
      "source": [],
      "execution_count": null,
      "outputs": []
    },
    {
      "cell_type": "code",
      "metadata": {
        "id": "Xaw65Z-JhivB"
      },
      "source": [],
      "execution_count": null,
      "outputs": []
    },
    {
      "cell_type": "code",
      "metadata": {
        "id": "ZUGwSQsehxfR"
      },
      "source": [],
      "execution_count": null,
      "outputs": []
    },
    {
      "cell_type": "code",
      "metadata": {
        "id": "mZvfIB19w41h"
      },
      "source": [],
      "execution_count": null,
      "outputs": []
    },
    {
      "cell_type": "markdown",
      "metadata": {
        "id": "B9HfkbsEWcUj"
      },
      "source": [
        "## Bulid Model"
      ]
    },
    {
      "cell_type": "code",
      "metadata": {
        "id": "PfYPsBCUd5ZL"
      },
      "source": [],
      "execution_count": null,
      "outputs": []
    },
    {
      "cell_type": "markdown",
      "metadata": {
        "id": "HA8yot2wdxRd"
      },
      "source": [
        "## Hyper Parameters"
      ]
    },
    {
      "cell_type": "code",
      "metadata": {
        "id": "u6vnAPG8dyqC"
      },
      "source": [],
      "execution_count": null,
      "outputs": []
    },
    {
      "cell_type": "code",
      "metadata": {
        "id": "EOfXuRI5mHld"
      },
      "source": [],
      "execution_count": null,
      "outputs": []
    },
    {
      "cell_type": "markdown",
      "metadata": {
        "id": "dnAkbo2ieo7K"
      },
      "source": [
        "## 모델 생성 및 학습"
      ]
    },
    {
      "cell_type": "code",
      "metadata": {
        "id": "I7hRivyDrJID"
      },
      "source": [],
      "execution_count": null,
      "outputs": []
    },
    {
      "cell_type": "code",
      "metadata": {
        "id": "N47geXoneuQy"
      },
      "source": [],
      "execution_count": null,
      "outputs": []
    },
    {
      "cell_type": "code",
      "metadata": {
        "id": "EHHND-B0rXH1"
      },
      "source": [],
      "execution_count": null,
      "outputs": []
    },
    {
      "cell_type": "code",
      "metadata": {
        "id": "weZvRhwFrXym"
      },
      "source": [],
      "execution_count": null,
      "outputs": []
    },
    {
      "cell_type": "code",
      "metadata": {
        "id": "AYCcdSFqrXwF"
      },
      "source": [],
      "execution_count": null,
      "outputs": []
    },
    {
      "cell_type": "markdown",
      "metadata": {
        "id": "hPhXd36RZy8I"
      },
      "source": [
        "### 생각보다 학습이 잘 되지 않았던 이유\n",
        "- 학습 데이터의 수 부족\n",
        "  - 학습 시간고려\n",
        "\n",
        "- FC Layer의 노드수가 적절했는지\n",
        "\n",
        "- 학습률(learning rate)값이 적절했는지\n",
        "\n",
        "- ...\n",
        "\n",
        "## 어떠한 조건에서 가장 좋은 결과를 내는지는 값을 **적절히** 바꾸어 시도해보아야함"
      ]
    }
  ]
}